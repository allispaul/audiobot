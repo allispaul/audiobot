{
  "nbformat": 4,
  "nbformat_minor": 0,
  "metadata": {
    "colab": {
      "provenance": [],
      "gpuType": "T4",
      "include_colab_link": true
    },
    "kernelspec": {
      "name": "python3",
      "display_name": "Python 3"
    },
    "language_info": {
      "name": "python"
    },
    "accelerator": "GPU"
  },
  "cells": [
    {
      "cell_type": "markdown",
      "metadata": {
        "id": "view-in-github",
        "colab_type": "text"
      },
      "source": [
        "<a href=\"https://colab.research.google.com/github/allispaul/audiobot/blob/main/AG_Audiobots_Data_Exploration.ipynb\" target=\"_parent\"><img src=\"https://colab.research.google.com/assets/colab-badge.svg\" alt=\"Open In Colab\"/></a>"
      ]
    },
    {
      "cell_type": "markdown",
      "source": [
        "#The Erd&#337;s Institute Fall Boot Camp - Team Audiobots\n",
        "\n",
        "We're using data from [this dataset](hhttps://huggingface.co/datasets/lewtun/music_genres_small) to try and classify one thousand 30s samples of audio into one of 10 genres:\n",
        "\n",
        "*   International        \n",
        "*   Pop                  \n",
        "*   Electronic           \n",
        "*   Chiptune / Glitch    \n",
        "*   Punk                 \n",
        "*   Folk                 \n",
        "*   Hip-Hop              \n",
        "*   Rock                 \n",
        "*   Instrumental         \n",
        "*   Experimental\n",
        "\n",
        "The data is a .parquet file containing ~30s (uncompressed?) .wav files (I have to check bit depths and sample rates still), along with song_id (does this mean anything to anyone?), and the genre from one of the 10 categories above.\n",
        "\n",
        "We are assuming the genres are accurate. Notably, the ``International'' genre appears to contain a variety of other genres of music, and many songs can come from more than one genre. We may eliminate this class if it causes problems.\n",
        "\n",
        "For training, we will feed the 90\\% of the data into a pre-trained Transformer network from HuggingSpace, and fine-tune the network to classify one of the 10 genres above. If the architecture requries inputs of constant size, we can either pad shorter samples with 0's, or randomly clip shorter sections of longer audio streams.\n",
        "\n",
        "This code does the following:\n",
        "\n",
        "*   Downloads the data from Google Drive\n",
        "*   (TODO) Splits the data into a CONSISTENT training and validation set. No need to create a test set until we get to the larger datasets.\n",
        "*   Calculates statistics for each class, verifying the same number of tracks in each genre, and that the size of each song is similar.\n",
        "*   (TODO) Determine if there's a way to analyze the average value/volume for each track.\n",
        "*   (TODO) Do we want to normalize the data in any way? I suspect Electronic music will be consistently louder than Folk music, which could throw off a (dumb) model just by changing the volume.\n",
        "*   (TODO) Create a simple model to predict genre from the data\n",
        "*   (TODO) Turn the data into spectrograms. This should probably be done once and saved instead of on the fly, as different settings could produce drastically different pictures."
      ],
      "metadata": {
        "id": "iLYAN1AGwe9z"
      }
    },
    {
      "cell_type": "code",
      "source": [
        "import pyarrow.parquet as pq\n",
        "import numpy as np\n",
        "import pandas as pd\n",
        "from matplotlib import pyplot as plt\n",
        "from pathlib import Path\n",
        "import librosa\n",
        "import matplotlib.pyplot as plt\n",
        "import librosa.display"
      ],
      "metadata": {
        "id": "G5S2Q9R1xuGr"
      },
      "execution_count": 11,
      "outputs": []
    },
    {
      "cell_type": "code",
      "source": [
        "!pip install datasets[audio]"
      ],
      "metadata": {
        "id": "g7NOrvfED5WJ"
      },
      "execution_count": null,
      "outputs": []
    },
    {
      "cell_type": "code",
      "source": [
        "from datasets import load_dataset, Audio"
      ],
      "metadata": {
        "id": "m6crlTxaEDRv"
      },
      "execution_count": 25,
      "outputs": []
    },
    {
      "cell_type": "code",
      "source": [
        "music_small = load_dataset(\"lewtun/music_genres_small\",split=\"train\")"
      ],
      "metadata": {
        "id": "qwLVdCdvEKjj"
      },
      "execution_count": 14,
      "outputs": []
    },
    {
      "cell_type": "code",
      "source": [
        "music_small_resampled = music_small.cast_column(\"audio\", Audio(sampling_rate=44_100))"
      ],
      "metadata": {
        "id": "ELYeJhNztYOK"
      },
      "execution_count": 26,
      "outputs": []
    },
    {
      "cell_type": "code",
      "source": [
        "music_small_resampled[23], music_small[23]"
      ],
      "metadata": {
        "colab": {
          "base_uri": "https://localhost:8080/"
        },
        "id": "AT_R-HUKthAC",
        "outputId": "3455f54b-a47b-4a25-fd8e-0df143200529"
      },
      "execution_count": 29,
      "outputs": [
        {
          "output_type": "execute_result",
          "data": {
            "text/plain": [
              "({'audio': {'path': None,\n",
              "   'array': array([-0.23038176, -0.26832825, -0.26040655, ...,  0.12153471,\n",
              "           0.11241338,  0.10263588]),\n",
              "   'sampling_rate': 44100},\n",
              "  'song_id': 14909,\n",
              "  'genre_id': 6,\n",
              "  'genre': 'Chiptune / Glitch'},\n",
              " {'audio': {'path': None,\n",
              "   'array': array([-0.254604  , -0.26018386, -0.26634176, ...,  0.1270264 ,\n",
              "           0.10603907,  0.10632006]),\n",
              "   'sampling_rate': 48000},\n",
              "  'song_id': 14909,\n",
              "  'genre_id': 6,\n",
              "  'genre': 'Chiptune / Glitch'})"
            ]
          },
          "metadata": {},
          "execution_count": 29
        }
      ]
    },
    {
      "cell_type": "markdown",
      "source": [
        "Dataset loads as a dictionary of dictionaries, including audio path = None for all, array, sampling_rate.\n",
        "\n",
        "array is the decoded audio data, represented as 1D array.\n",
        "\n",
        "Sampling rate - the number of samples per second used to represent the audio. 44,100 hertz for the first song. This audio is sampled 44,100 times per second. These are CD quality audio files. If we are thinking about using a pre-tuned model, its sampling rate should be 44,100 hertz."
      ],
      "metadata": {
        "id": "mlDfJrzCE4j9"
      }
    },
    {
      "cell_type": "code",
      "source": [
        "len(music_small), music_small[0]"
      ],
      "metadata": {
        "colab": {
          "base_uri": "https://localhost:8080/"
        },
        "id": "fACcwneUEf1y",
        "outputId": "1eecb1dd-98bc-472b-bbf6-83d69fa10975"
      },
      "execution_count": 5,
      "outputs": [
        {
          "output_type": "execute_result",
          "data": {
            "text/plain": [
              "(1000,\n",
              " {'audio': {'path': None,\n",
              "   'array': array([ 0.        ,  0.        ,  0.        , ..., -0.00328412,\n",
              "          -0.00250573, -0.00360047]),\n",
              "   'sampling_rate': 44100},\n",
              "  'song_id': 11483,\n",
              "  'genre_id': 9,\n",
              "  'genre': 'International'})"
            ]
          },
          "metadata": {},
          "execution_count": 5
        }
      ]
    },
    {
      "cell_type": "markdown",
      "source": [
        "Remove columns that are not useful."
      ],
      "metadata": {
        "id": "gbgS0UWxL6iV"
      }
    },
    {
      "cell_type": "code",
      "source": [
        "# Plot of an audio file with 44,100 Hz sampling rate\n",
        "example = music_small[0]\n",
        "array = example[\"audio\"][\"array\"]\n",
        "sampling_rate = example[\"audio\"][\"sampling_rate\"]\n",
        "\n",
        "plt.figure().set_figwidth(12)\n",
        "librosa.display.waveshow(array, sr=sampling_rate)"
      ],
      "metadata": {
        "colab": {
          "base_uri": "https://localhost:8080/",
          "height": 466
        },
        "id": "t6x0_fnIL-wX",
        "outputId": "ac164214-45cd-4e19-d168-a656b7abf882"
      },
      "execution_count": 37,
      "outputs": [
        {
          "output_type": "execute_result",
          "data": {
            "text/plain": [
              "<librosa.display.AdaptiveWaveplot at 0x7894690d56c0>"
            ]
          },
          "metadata": {},
          "execution_count": 37
        },
        {
          "output_type": "display_data",
          "data": {
            "text/plain": [
              "<Figure size 1200x480 with 1 Axes>"
            ],
            "image/png": "[encoded data removed]"
          },
          "metadata": {}
        }
      ]
    },
    {
      "cell_type": "code",
      "source": [
        "# Plot of an audio file with\n",
        "example = music_small[34]\n",
        "array = example[\"audio\"][\"array\"]\n",
        "sampling_rate = example[\"audio\"][\"sampling_rate\"]\n",
        "\n",
        "plt.figure().set_figwidth(12)\n",
        "librosa.display.waveshow(array, sr=sampling_rate)"
      ],
      "metadata": {
        "colab": {
          "base_uri": "https://localhost:8080/",
          "height": 466
        },
        "id": "cai1dMBTMuxp",
        "outputId": "28d81b4e-d667-4112-a9a7-fbaf015fa7c8"
      },
      "execution_count": 44,
      "outputs": [
        {
          "output_type": "execute_result",
          "data": {
            "text/plain": [
              "<librosa.display.AdaptiveWaveplot at 0x7894691eeec0>"
            ]
          },
          "metadata": {},
          "execution_count": 44
        },
        {
          "output_type": "display_data",
          "data": {
            "text/plain": [
              "<Figure size 1200x480 with 1 Axes>"
            ],
            "image/png": "[encoded data removed]"
          },
          "metadata": {}
        }
      ]
    },
    {
      "cell_type": "code",
      "source": [
        "music_small"
      ],
      "metadata": {
        "id": "0c5Ygh0Oh8Ou"
      },
      "execution_count": null,
      "outputs": []
    },
    {
      "cell_type": "code",
      "source": [
        "len(music_small[35][\"audio\"][\"array\"])"
      ],
      "metadata": {
        "colab": {
          "base_uri": "https://localhost:8080/"
        },
        "id": "rA8I2fqYGcbQ",
        "outputId": "f0dd8fbb-86ba-4cfd-8a49-79a7bac49d29"
      },
      "execution_count": 10,
      "outputs": [
        {
          "output_type": "execute_result",
          "data": {
            "text/plain": [
              "1323119"
            ]
          },
          "metadata": {},
          "execution_count": 10
        }
      ]
    },
    {
      "cell_type": "markdown",
      "source": [
        "Do all files have the same sampling rate?"
      ],
      "metadata": {
        "id": "JMH0OuSPF3ad"
      }
    },
    {
      "cell_type": "code",
      "source": [
        "sampling_rate = [sample[\"audio\"][\"sampling_rate\"] for sample in music_small]"
      ],
      "metadata": {
        "id": "meEU68A5F6Ri"
      },
      "execution_count": 15,
      "outputs": []
    },
    {
      "cell_type": "code",
      "source": [
        "filtered_sampling_rate = [rate for rate in sampling_rate if rate!= 44100] # sampling rates\n",
        "\n",
        "filtered_sampling_rate_index =[index for index, rate in enumerate(sampling_rate) if rate != 44100]\n",
        "print(f\"The number of audio files that do not match the 44,100 sampling rate is {len(filtered_sampling_rate)}\")\n",
        "\n",
        "filtered_sampling_rate_index"
      ],
      "metadata": {
        "colab": {
          "base_uri": "https://localhost:8080/"
        },
        "id": "bkRWr-ieIV2G",
        "outputId": "fd6f9a0a-b313-42d0-ffd5-474645ee2f77"
      },
      "execution_count": 16,
      "outputs": [
        {
          "output_type": "stream",
          "name": "stdout",
          "text": [
            "The number of audio files that do not match the 44,100 sampling rate is 57\n"
          ]
        },
        {
          "output_type": "execute_result",
          "data": {
            "text/plain": [
              "[23,\n",
              " 34,\n",
              " 93,\n",
              " 100,\n",
              " 116,\n",
              " 128,\n",
              " 142,\n",
              " 214,\n",
              " 247,\n",
              " 280,\n",
              " 292,\n",
              " 301,\n",
              " 313,\n",
              " 323,\n",
              " 340,\n",
              " 348,\n",
              " 349,\n",
              " 364,\n",
              " 393,\n",
              " 397,\n",
              " 406,\n",
              " 411,\n",
              " 434,\n",
              " 465,\n",
              " 474,\n",
              " 479,\n",
              " 523,\n",
              " 526,\n",
              " 579,\n",
              " 589,\n",
              " 594,\n",
              " 599,\n",
              " 610,\n",
              " 617,\n",
              " 643,\n",
              " 655,\n",
              " 661,\n",
              " 670,\n",
              " 675,\n",
              " 679,\n",
              " 702,\n",
              " 710,\n",
              " 721,\n",
              " 738,\n",
              " 746,\n",
              " 759,\n",
              " 765,\n",
              " 799,\n",
              " 801,\n",
              " 816,\n",
              " 836,\n",
              " 853,\n",
              " 870,\n",
              " 886,\n",
              " 928,\n",
              " 948,\n",
              " 968]"
            ]
          },
          "metadata": {},
          "execution_count": 16
        }
      ]
    },
    {
      "cell_type": "code",
      "source": [
        "music_small[23]"
      ],
      "metadata": {
        "colab": {
          "base_uri": "https://localhost:8080/"
        },
        "id": "n2isPlrlKOy0",
        "outputId": "60bc5713-8757-4bb4-ac0a-ee88a56a81d1"
      },
      "execution_count": 17,
      "outputs": [
        {
          "output_type": "execute_result",
          "data": {
            "text/plain": [
              "{'audio': {'path': None,\n",
              "  'array': array([-0.254604  , -0.26018386, -0.26634176, ...,  0.1270264 ,\n",
              "          0.10603907,  0.10632006]),\n",
              "  'sampling_rate': 48000},\n",
              " 'song_id': 14909,\n",
              " 'genre_id': 6,\n",
              " 'genre': 'Chiptune / Glitch'}"
            ]
          },
          "metadata": {},
          "execution_count": 17
        }
      ]
    },
    {
      "cell_type": "markdown",
      "source": [
        "Download the dataset into data folder"
      ],
      "metadata": {
        "id": "PPMV0AFsxEIK"
      }
    },
    {
      "cell_type": "code",
      "execution_count": 17,
      "metadata": {
        "id": "1hISmifrupo9",
        "colab": {
          "base_uri": "https://localhost:8080/"
        },
        "outputId": "b6d958c8-20bc-4ba8-acfb-a09b80464e52"
      },
      "outputs": [
        {
          "output_type": "stream",
          "name": "stdout",
          "text": [
            "--2024-03-01 20:19:26--  https://huggingface.co/datasets/lewtun/music_genres_small/resolve/main/data/train-00000-of-00001-63d68663287b1638.parquet?download=true\n",
            "Resolving huggingface.co (huggingface.co)... 18.164.174.17, 18.164.174.118, 18.164.174.23, ...\n",
            "Connecting to huggingface.co (huggingface.co)|18.164.174.17|:443... connected.\n",
            "HTTP request sent, awaiting response... 302 Found\n",
            "Location: https://cdn-lfs.huggingface.co/repos/7d/36/7d36780ef7f5dbd22e4ae2ff5028f5101c93ca9b418b3b0aa84d838dd7d393fb/bed1e08f92cfef798398a7183a23da725ccbf503bc91f45a865749511218f035?response-content-disposition=attachment%3B+filename*%3DUTF-8%27%27train-00000-of-00001-63d68663287b1638.parquet%3B+filename%3D%22train-00000-of-00001-63d68663287b1638.parquet%22%3B&Expires=1709583566&Policy=eyJTdGF0ZW1lbnQiOlt7IkNvbmRpdGlvbiI6eyJEYXRlTGVzc1RoYW4iOnsiQVdTOkVwb2NoVGltZSI6MTcwOTU4MzU2Nn19LCJSZXNvdXJjZSI6Imh0dHBzOi8vY2RuLWxmcy5odWdnaW5nZmFjZS5jby9yZXBvcy83ZC8zNi83ZDM2NzgwZWY3ZjVkYmQyMmU0YWUyZmY1MDI4ZjUxMDFjOTNjYTliNDE4YjNiMGFhODRkODM4ZGQ3ZDM5M2ZiL2JlZDFlMDhmOTJjZmVmNzk4Mzk4YTcxODNhMjNkYTcyNWNjYmY1MDNiYzkxZjQ1YTg2NTc0OTUxMTIxOGYwMzU%7EcmVzcG9uc2UtY29udGVudC1kaXNwb3NpdGlvbj0qIn1dfQ__&Signature=ykUy72FxQU7dDhXscYOn0GsRIZuFICOGzDSNRVxoQ%7EEg%7Ep2UGC7fyc86eB3NFh%7EfF4aJFvjroOkQVDWNhuqW4cgx0mQSC6X25%7EU0w5VVgRpsBlk3hlD9yMBt9UBA7dH8XatyBd1dHgBjTxTPtTNOKjYCkBT2xMIvfE4Jrt-aRV4DJpCnzH5LsV4ccrQpThYvBpbtS72NXxYwTK7pBjk7fg5t3jvpWe1Nhb6IaRkiqQ4lHi8EXRSYLsLojbaHjW6c6NFON3yS7s%7EyYXMRPeDtv65OqoeVxMwdDRFGklZaMVfb8jQqDWNI8RfmskBxRWEVhOeVktRGsEuOrL%7EwFkF-7g__&Key-Pair-Id=KVTP0A1DKRTAX [following]\n",
            "--2024-03-01 20:19:26--  https://cdn-lfs.huggingface.co/repos/7d/36/7d36780ef7f5dbd22e4ae2ff5028f5101c93ca9b418b3b0aa84d838dd7d393fb/bed1e08f92cfef798398a7183a23da725ccbf503bc91f45a865749511218f035?response-content-disposition=attachment%3B+filename*%3DUTF-8%27%27train-00000-of-00001-63d68663287b1638.parquet%3B+filename%3D%22train-00000-of-00001-63d68663287b1638.parquet%22%3B&Expires=1709583566&Policy=eyJTdGF0ZW1lbnQiOlt7IkNvbmRpdGlvbiI6eyJEYXRlTGVzc1RoYW4iOnsiQVdTOkVwb2NoVGltZSI6MTcwOTU4MzU2Nn19LCJSZXNvdXJjZSI6Imh0dHBzOi8vY2RuLWxmcy5odWdnaW5nZmFjZS5jby9yZXBvcy83ZC8zNi83ZDM2NzgwZWY3ZjVkYmQyMmU0YWUyZmY1MDI4ZjUxMDFjOTNjYTliNDE4YjNiMGFhODRkODM4ZGQ3ZDM5M2ZiL2JlZDFlMDhmOTJjZmVmNzk4Mzk4YTcxODNhMjNkYTcyNWNjYmY1MDNiYzkxZjQ1YTg2NTc0OTUxMTIxOGYwMzU%7EcmVzcG9uc2UtY29udGVudC1kaXNwb3NpdGlvbj0qIn1dfQ__&Signature=ykUy72FxQU7dDhXscYOn0GsRIZuFICOGzDSNRVxoQ%7EEg%7Ep2UGC7fyc86eB3NFh%7EfF4aJFvjroOkQVDWNhuqW4cgx0mQSC6X25%7EU0w5VVgRpsBlk3hlD9yMBt9UBA7dH8XatyBd1dHgBjTxTPtTNOKjYCkBT2xMIvfE4Jrt-aRV4DJpCnzH5LsV4ccrQpThYvBpbtS72NXxYwTK7pBjk7fg5t3jvpWe1Nhb6IaRkiqQ4lHi8EXRSYLsLojbaHjW6c6NFON3yS7s%7EyYXMRPeDtv65OqoeVxMwdDRFGklZaMVfb8jQqDWNI8RfmskBxRWEVhOeVktRGsEuOrL%7EwFkF-7g__&Key-Pair-Id=KVTP0A1DKRTAX\n",
            "Resolving cdn-lfs.huggingface.co (cdn-lfs.huggingface.co)... 18.154.206.14, 18.154.206.4, 18.154.206.28, ...\n",
            "Connecting to cdn-lfs.huggingface.co (cdn-lfs.huggingface.co)|18.154.206.14|:443... connected.\n",
            "HTTP request sent, awaiting response... 200 OK\n",
            "Length: 390675126 (373M) [binary/octet-stream]\n",
            "Saving to: ‘content/data/audiodata.parquet’\n",
            "\n",
            "content/data/audiod 100%[===================>] 372.58M  49.1MB/s    in 7.6s    \n",
            "\n",
            "2024-03-01 20:19:34 (49.1 MB/s) - ‘content/data/audiodata.parquet’ saved [390675126/390675126]\n",
            "\n"
          ]
        }
      ],
      "source": [
        "!mkdir -p content/data && wget -O content/data/audiodata.parquet \"https://huggingface.co/datasets/lewtun/music_genres_small/resolve/main/data/train-00000-of-00001-63d68663287b1638.parquet?download=true\""
      ]
    },
    {
      "cell_type": "code",
      "source": [
        "audio_file = \"content/data/audiodata.parquet\"\n",
        "df = pq.read_table(audio_file).to_pandas()\n",
        "df.head()"
      ],
      "metadata": {
        "colab": {
          "base_uri": "https://localhost:8080/",
          "height": 206
        },
        "id": "-wgd3gJRx6Ey",
        "outputId": "722c6e2a-c352-42ae-c1ef-1b8ec52a3968"
      },
      "execution_count": 18,
      "outputs": [
        {
          "output_type": "execute_result",
          "data": {
            "text/plain": [
              "                                               audio  song_id  genre_id  \\\n",
              "0  {'bytes': b'OggS\\x00\\x02\\x00\\x00\\x00\\x00\\x00\\x...    11483         9   \n",
              "1  {'bytes': b'OggS\\x00\\x02\\x00\\x00\\x00\\x00\\x00\\x...     6824         9   \n",
              "2  {'bytes': b'OggS\\x00\\x02\\x00\\x00\\x00\\x00\\x00\\x...     8361         8   \n",
              "3  {'bytes': b'OggS\\x00\\x02\\x00\\x00\\x00\\x00\\x00\\x...    12269         9   \n",
              "4  {'bytes': b'OggS\\x00\\x02\\x00\\x00\\x00\\x00\\x00\\x...     1063         0   \n",
              "\n",
              "           genre  \n",
              "0  International  \n",
              "1  International  \n",
              "2            Pop  \n",
              "3  International  \n",
              "4     Electronic  "
            ],
            "text/html": [
              "\n",
              "  <div id=\"df-51f0ddd3-b4ce-4223-8071-20fdf26b5ba3\" class=\"colab-df-container\">\n",
              "    <div>\n",
              "<style scoped>\n",
              "    .dataframe tbody tr th:only-of-type {\n",
              "        vertical-align: middle;\n",
              "    }\n",
              "\n",
              "    .dataframe tbody tr th {\n",
              "        vertical-align: top;\n",
              "    }\n",
              "\n",
              "    .dataframe thead th {\n",
              "        text-align: right;\n",
              "    }\n",
              "</style>\n",
              "<table border=\"1\" class=\"dataframe\">\n",
              "  <thead>\n",
              "    <tr style=\"text-align: right;\">\n",
              "      <th></th>\n",
              "      <th>audio</th>\n",
              "      <th>song_id</th>\n",
              "      <th>genre_id</th>\n",
              "      <th>genre</th>\n",
              "    </tr>\n",
              "  </thead>\n",
              "  <tbody>\n",
              "    <tr>\n",
              "      <th>0</th>\n",
              "      <td>{'bytes': b'OggS\\x00\\x02\\x00\\x00\\x00\\x00\\x00\\x...</td>\n",
              "      <td>11483</td>\n",
              "      <td>9</td>\n",
              "      <td>International</td>\n",
              "    </tr>\n",
              "    <tr>\n",
              "      <th>1</th>\n",
              "      <td>{'bytes': b'OggS\\x00\\x02\\x00\\x00\\x00\\x00\\x00\\x...</td>\n",
              "      <td>6824</td>\n",
              "      <td>9</td>\n",
              "      <td>International</td>\n",
              "    </tr>\n",
              "    <tr>\n",
              "      <th>2</th>\n",
              "      <td>{'bytes': b'OggS\\x00\\x02\\x00\\x00\\x00\\x00\\x00\\x...</td>\n",
              "      <td>8361</td>\n",
              "      <td>8</td>\n",
              "      <td>Pop</td>\n",
              "    </tr>\n",
              "    <tr>\n",
              "      <th>3</th>\n",
              "      <td>{'bytes': b'OggS\\x00\\x02\\x00\\x00\\x00\\x00\\x00\\x...</td>\n",
              "      <td>12269</td>\n",
              "      <td>9</td>\n",
              "      <td>International</td>\n",
              "    </tr>\n",
              "    <tr>\n",
              "      <th>4</th>\n",
              "      <td>{'bytes': b'OggS\\x00\\x02\\x00\\x00\\x00\\x00\\x00\\x...</td>\n",
              "      <td>1063</td>\n",
              "      <td>0</td>\n",
              "      <td>Electronic</td>\n",
              "    </tr>\n",
              "  </tbody>\n",
              "</table>\n",
              "</div>\n",
              "    <div class=\"colab-df-buttons\">\n",
              "\n",
              "  <div class=\"colab-df-container\">\n",
              "    <button class=\"colab-df-convert\" onclick=\"convertToInteractive('df-51f0ddd3-b4ce-4223-8071-20fdf26b5ba3')\"\n",
              "            title=\"Convert this dataframe to an interactive table.\"\n",
              "            style=\"display:none;\">\n",
              "\n",
              "  <svg xmlns=\"http://www.w3.org/2000/svg\" height=\"24px\" viewBox=\"0 -960 960 960\">\n",
              "    <path d=\"M120-120v-720h720v720H120Zm60-500h600v-160H180v160Zm220 220h160v-160H400v160Zm0 220h160v-160H400v160ZM180-400h160v-160H180v160Zm440 0h160v-160H620v160ZM180-180h160v-160H180v160Zm440 0h160v-160H620v160Z\"/>\n",
              "  </svg>\n",
              "    </button>\n",
              "\n",
              "  <style>\n",
              "    .colab-df-container {\n",
              "      display:flex;\n",
              "      gap: 12px;\n",
              "    }\n",
              "\n",
              "    .colab-df-convert {\n",
              "      background-color: #E8F0FE;\n",
              "      border: none;\n",
              "      border-radius: 50%;\n",
              "      cursor: pointer;\n",
              "      display: none;\n",
              "      fill: #1967D2;\n",
              "      height: 32px;\n",
              "      padding: 0 0 0 0;\n",
              "      width: 32px;\n",
              "    }\n",
              "\n",
              "    .colab-df-convert:hover {\n",
              "      background-color: #E2EBFA;\n",
              "      box-shadow: 0px 1px 2px rgba(60, 64, 67, 0.3), 0px 1px 3px 1px rgba(60, 64, 67, 0.15);\n",
              "      fill: #174EA6;\n",
              "    }\n",
              "\n",
              "    .colab-df-buttons div {\n",
              "      margin-bottom: 4px;\n",
              "    }\n",
              "\n",
              "    [theme=dark] .colab-df-convert {\n",
              "      background-color: #3B4455;\n",
              "      fill: #D2E3FC;\n",
              "    }\n",
              "\n",
              "    [theme=dark] .colab-df-convert:hover {\n",
              "      background-color: #434B5C;\n",
              "      box-shadow: 0px 1px 3px 1px rgba(0, 0, 0, 0.15);\n",
              "      filter: drop-shadow(0px 1px 2px rgba(0, 0, 0, 0.3));\n",
              "      fill: #FFFFFF;\n",
              "    }\n",
              "  </style>\n",
              "\n",
              "    <script>\n",
              "      const buttonEl =\n",
              "        document.querySelector('#df-51f0ddd3-b4ce-4223-8071-20fdf26b5ba3 button.colab-df-convert');\n",
              "      buttonEl.style.display =\n",
              "        google.colab.kernel.accessAllowed ? 'block' : 'none';\n",
              "\n",
              "      async function convertToInteractive(key) {\n",
              "        const element = document.querySelector('#df-51f0ddd3-b4ce-4223-8071-20fdf26b5ba3');\n",
              "        const dataTable =\n",
              "          await google.colab.kernel.invokeFunction('convertToInteractive',\n",
              "                                                    [key], {});\n",
              "        if (!dataTable) return;\n",
              "\n",
              "        const docLinkHtml = 'Like what you see? Visit the ' +\n",
              "          '<a target=\"_blank\" href=https://colab.research.google.com/notebooks/data_table.ipynb>data table notebook</a>'\n",
              "          + ' to learn more about interactive tables.';\n",
              "        element.innerHTML = '';\n",
              "        dataTable['output_type'] = 'display_data';\n",
              "        await google.colab.output.renderOutput(dataTable, element);\n",
              "        const docLink = document.createElement('div');\n",
              "        docLink.innerHTML = docLinkHtml;\n",
              "        element.appendChild(docLink);\n",
              "      }\n",
              "    </script>\n",
              "  </div>\n",
              "\n",
              "\n",
              "<div id=\"df-c0c0600f-165c-4fc2-9913-f2c0d6ec252e\">\n",
              "  <button class=\"colab-df-quickchart\" onclick=\"quickchart('df-c0c0600f-165c-4fc2-9913-f2c0d6ec252e')\"\n",
              "            title=\"Suggest charts\"\n",
              "            style=\"display:none;\">\n",
              "\n",
              "<svg xmlns=\"http://www.w3.org/2000/svg\" height=\"24px\"viewBox=\"0 0 24 24\"\n",
              "     width=\"24px\">\n",
              "    <g>\n",
              "        <path d=\"M19 3H5c-1.1 0-2 .9-2 2v14c0 1.1.9 2 2 2h14c1.1 0 2-.9 2-2V5c0-1.1-.9-2-2-2zM9 17H7v-7h2v7zm4 0h-2V7h2v10zm4 0h-2v-4h2v4z\"/>\n",
              "    </g>\n",
              "</svg>\n",
              "  </button>\n",
              "\n",
              "<style>\n",
              "  .colab-df-quickchart {\n",
              "      --bg-color: #E8F0FE;\n",
              "      --fill-color: #1967D2;\n",
              "      --hover-bg-color: #E2EBFA;\n",
              "      --hover-fill-color: #174EA6;\n",
              "      --disabled-fill-color: #AAA;\n",
              "      --disabled-bg-color: #DDD;\n",
              "  }\n",
              "\n",
              "  [theme=dark] .colab-df-quickchart {\n",
              "      --bg-color: #3B4455;\n",
              "      --fill-color: #D2E3FC;\n",
              "      --hover-bg-color: #434B5C;\n",
              "      --hover-fill-color: #FFFFFF;\n",
              "      --disabled-bg-color: #3B4455;\n",
              "      --disabled-fill-color: #666;\n",
              "  }\n",
              "\n",
              "  .colab-df-quickchart {\n",
              "    background-color: var(--bg-color);\n",
              "    border: none;\n",
              "    border-radius: 50%;\n",
              "    cursor: pointer;\n",
              "    display: none;\n",
              "    fill: var(--fill-color);\n",
              "    height: 32px;\n",
              "    padding: 0;\n",
              "    width: 32px;\n",
              "  }\n",
              "\n",
              "  .colab-df-quickchart:hover {\n",
              "    background-color: var(--hover-bg-color);\n",
              "    box-shadow: 0 1px 2px rgba(60, 64, 67, 0.3), 0 1px 3px 1px rgba(60, 64, 67, 0.15);\n",
              "    fill: var(--button-hover-fill-color);\n",
              "  }\n",
              "\n",
              "  .colab-df-quickchart-complete:disabled,\n",
              "  .colab-df-quickchart-complete:disabled:hover {\n",
              "    background-color: var(--disabled-bg-color);\n",
              "    fill: var(--disabled-fill-color);\n",
              "    box-shadow: none;\n",
              "  }\n",
              "\n",
              "  .colab-df-spinner {\n",
              "    border: 2px solid var(--fill-color);\n",
              "    border-color: transparent;\n",
              "    border-bottom-color: var(--fill-color);\n",
              "    animation:\n",
              "      spin 1s steps(1) infinite;\n",
              "  }\n",
              "\n",
              "  @keyframes spin {\n",
              "    0% {\n",
              "      border-color: transparent;\n",
              "      border-bottom-color: var(--fill-color);\n",
              "      border-left-color: var(--fill-color);\n",
              "    }\n",
              "    20% {\n",
              "      border-color: transparent;\n",
              "      border-left-color: var(--fill-color);\n",
              "      border-top-color: var(--fill-color);\n",
              "    }\n",
              "    30% {\n",
              "      border-color: transparent;\n",
              "      border-left-color: var(--fill-color);\n",
              "      border-top-color: var(--fill-color);\n",
              "      border-right-color: var(--fill-color);\n",
              "    }\n",
              "    40% {\n",
              "      border-color: transparent;\n",
              "      border-right-color: var(--fill-color);\n",
              "      border-top-color: var(--fill-color);\n",
              "    }\n",
              "    60% {\n",
              "      border-color: transparent;\n",
              "      border-right-color: var(--fill-color);\n",
              "    }\n",
              "    80% {\n",
              "      border-color: transparent;\n",
              "      border-right-color: var(--fill-color);\n",
              "      border-bottom-color: var(--fill-color);\n",
              "    }\n",
              "    90% {\n",
              "      border-color: transparent;\n",
              "      border-bottom-color: var(--fill-color);\n",
              "    }\n",
              "  }\n",
              "</style>\n",
              "\n",
              "  <script>\n",
              "    async function quickchart(key) {\n",
              "      const quickchartButtonEl =\n",
              "        document.querySelector('#' + key + ' button');\n",
              "      quickchartButtonEl.disabled = true;  // To prevent multiple clicks.\n",
              "      quickchartButtonEl.classList.add('colab-df-spinner');\n",
              "      try {\n",
              "        const charts = await google.colab.kernel.invokeFunction(\n",
              "            'suggestCharts', [key], {});\n",
              "      } catch (error) {\n",
              "        console.error('Error during call to suggestCharts:', error);\n",
              "      }\n",
              "      quickchartButtonEl.classList.remove('colab-df-spinner');\n",
              "      quickchartButtonEl.classList.add('colab-df-quickchart-complete');\n",
              "    }\n",
              "    (() => {\n",
              "      let quickchartButtonEl =\n",
              "        document.querySelector('#df-c0c0600f-165c-4fc2-9913-f2c0d6ec252e button');\n",
              "      quickchartButtonEl.style.display =\n",
              "        google.colab.kernel.accessAllowed ? 'block' : 'none';\n",
              "    })();\n",
              "  </script>\n",
              "</div>\n",
              "    </div>\n",
              "  </div>\n"
            ],
            "application/vnd.google.colaboratory.intrinsic+json": {
              "type": "dataframe",
              "variable_name": "df",
              "summary": "{\n  \"name\": \"df\",\n  \"rows\": 1000,\n  \"fields\": [\n    {\n      \"column\": \"audio\",\n      \"properties\": {\n        \"dtype\": \"object\",\n        \"semantic_type\": \"\",\n        \"description\": \"\"\n      }\n    },\n    {\n      \"column\": \"song_id\",\n      \"properties\": {\n        \"dtype\": \"number\",\n        \"std\": 7382,\n        \"min\": 2,\n        \"max\": 24971,\n        \"num_unique_values\": 1000,\n        \"samples\": [\n          21174,\n          5084,\n          18604\n        ],\n        \"semantic_type\": \"\",\n        \"description\": \"\"\n      }\n    },\n    {\n      \"column\": \"genre_id\",\n      \"properties\": {\n        \"dtype\": \"number\",\n        \"std\": 2,\n        \"min\": 0,\n        \"max\": 9,\n        \"num_unique_values\": 10,\n        \"samples\": [\n          7,\n          8,\n          5\n        ],\n        \"semantic_type\": \"\",\n        \"description\": \"\"\n      }\n    },\n    {\n      \"column\": \"genre\",\n      \"properties\": {\n        \"dtype\": \"category\",\n        \"num_unique_values\": 10,\n        \"samples\": [\n          \"Instrumental\",\n          \"Pop\",\n          \"Folk\"\n        ],\n        \"semantic_type\": \"\",\n        \"description\": \"\"\n      }\n    }\n  ]\n}"
            }
          },
          "metadata": {},
          "execution_count": 18
        }
      ]
    },
    {
      "cell_type": "markdown",
      "source": [
        "Audio column contains a dictionary. Create a new column called bytes and drop audio (Path is None for all observations)."
      ],
      "metadata": {
        "id": "dVuW6493oa3n"
      }
    },
    {
      "cell_type": "code",
      "source": [
        "df[\"bytes\"] = df[\"audio\"].map(lambda d: d[\"bytes\"])\n",
        "\n",
        "df.drop(\"audio\",axis=1,inplace=True)"
      ],
      "metadata": {
        "id": "gte-tQtroqb7"
      },
      "execution_count": 19,
      "outputs": []
    },
    {
      "cell_type": "markdown",
      "source": [
        "Each genre has 100 observations. Most of these have sampling rate of 44,100 Hz. In total, 57 audio files have different than 44,100 Hz. The genre distribution is below:"
      ],
      "metadata": {
        "id": "0dOpJM9_r3f9"
      }
    },
    {
      "cell_type": "code",
      "source": [
        "df.genre.value_counts()"
      ],
      "metadata": {
        "colab": {
          "base_uri": "https://localhost:8080/"
        },
        "id": "QD9sPa39rcPh",
        "outputId": "3b5397c2-19d2-48f0-d764-dcec070f534b"
      },
      "execution_count": 24,
      "outputs": [
        {
          "output_type": "execute_result",
          "data": {
            "text/plain": [
              "International        100\n",
              "Pop                  100\n",
              "Electronic           100\n",
              "Chiptune / Glitch    100\n",
              "Punk                 100\n",
              "Folk                 100\n",
              "Hip-Hop              100\n",
              "Rock                 100\n",
              "Instrumental         100\n",
              "Experimental         100\n",
              "Name: genre, dtype: int64"
            ]
          },
          "metadata": {},
          "execution_count": 24
        }
      ]
    },
    {
      "cell_type": "code",
      "source": [
        "df_nonsample = df.iloc[filtered_sampling_rate_index,]\n",
        "\n",
        "df_nonsample.genre.value_counts()"
      ],
      "metadata": {
        "colab": {
          "base_uri": "https://localhost:8080/"
        },
        "id": "z-fXArgyrE_y",
        "outputId": "6d788cff-48ba-42d2-c535-cf74f0df735d"
      },
      "execution_count": 23,
      "outputs": [
        {
          "output_type": "execute_result",
          "data": {
            "text/plain": [
              "Instrumental         17\n",
              "Punk                 10\n",
              "International         6\n",
              "Hip-Hop               6\n",
              "Chiptune / Glitch     5\n",
              "Rock                  4\n",
              "Pop                   3\n",
              "Experimental          3\n",
              "Electronic            2\n",
              "Folk                  1\n",
              "Name: genre, dtype: int64"
            ]
          },
          "metadata": {},
          "execution_count": 23
        }
      ]
    },
    {
      "cell_type": "code",
      "source": [
        "filtered_sampling_rate_index[:5]"
      ],
      "metadata": {
        "colab": {
          "base_uri": "https://localhost:8080/"
        },
        "id": "NfWCeKVYLEHD",
        "outputId": "3f65ed98-00d0-4637-e3b7-b610210b7334"
      },
      "execution_count": 23,
      "outputs": [
        {
          "output_type": "execute_result",
          "data": {
            "text/plain": [
              "[23, 34, 93, 100, 116]"
            ]
          },
          "metadata": {},
          "execution_count": 23
        }
      ]
    },
    {
      "cell_type": "code",
      "source": [
        "audio_data = df.bytes[93]\n",
        "\n",
        "with open('output_audio.ogg','wb') as audio_file:\n",
        "  audio_file.write(audio_data)"
      ],
      "metadata": {
        "id": "wYg-_4iRoyaw"
      },
      "execution_count": 29,
      "outputs": []
    },
    {
      "cell_type": "code",
      "source": [
        "df.iloc[93]"
      ],
      "metadata": {
        "colab": {
          "base_uri": "https://localhost:8080/"
        },
        "id": "URtvYg74LNbc",
        "outputId": "e66ffad5-55f2-48b8-aea4-e2f8de063822"
      },
      "execution_count": 28,
      "outputs": [
        {
          "output_type": "execute_result",
          "data": {
            "text/plain": [
              "song_id                                                  2712\n",
              "genre_id                                                    9\n",
              "genre                                           International\n",
              "bytes       b'OggS\\x00\\x02\\x00\\x00\\x00\\x00\\x00\\x00\\x00\\x00...\n",
              "Name: 93, dtype: object"
            ]
          },
          "metadata": {},
          "execution_count": 28
        }
      ]
    },
    {
      "cell_type": "code",
      "source": [
        "df.genre_id.value_counts()"
      ],
      "metadata": {
        "id": "slkYZwvgzu7C"
      },
      "execution_count": null,
      "outputs": []
    },
    {
      "cell_type": "code",
      "source": [
        "df.genre.value_counts()"
      ],
      "metadata": {
        "id": "zNGFm9Td1ysl"
      },
      "execution_count": null,
      "outputs": []
    },
    {
      "source": [
        "plt.hist(df.genre_id, bins = 19)"
      ],
      "cell_type": "code",
      "execution_count": null,
      "outputs": [],
      "metadata": {
        "id": "5N_nmCnvyH6w"
      }
    },
    {
      "cell_type": "markdown",
      "source": [
        "Bytes column represent binary data encoded as a byte string. The prefix b shows that it is a byte string, a sequence of bytes stored at the lowest level. Audio data is coded as binary data, and then converted into byte strings so that it can be downloaded, transfered etc. Not human-readable.\n",
        "\n",
        "Byte string is Ogg format - multimedia including audio. Usually with Vorbis or Opus audio codecs - compressed without significant loss of quality.\n",
        "\n",
        "We can use special programming in Python to analyze the data to extract its features, even change it so that we change the audio.\n",
        "\n",
        "As seen below, bytes have different lengths, which corresponds to\n"
      ],
      "metadata": {
        "id": "1HxTNfgVl2_K"
      }
    },
    {
      "cell_type": "code",
      "source": [
        "len(df.bytes[0]), len(df.bytes[1])"
      ],
      "metadata": {
        "colab": {
          "base_uri": "https://localhost:8080/"
        },
        "id": "eWtChctbp5tR",
        "outputId": "87ad678e-b1d8-4ca1-a6ee-be2054b46d6d"
      },
      "execution_count": 53,
      "outputs": [
        {
          "output_type": "execute_result",
          "data": {
            "text/plain": [
              "(380792, 406313)"
            ]
          },
          "metadata": {},
          "execution_count": 53
        }
      ]
    },
    {
      "cell_type": "markdown",
      "source": [
        "If you want to convert byte strings back to audio data, you can write them using .ogg file type with the code below."
      ],
      "metadata": {
        "id": "3mkgjfwwqjcN"
      }
    },
    {
      "cell_type": "code",
      "source": [
        "#audio_data = df.bytes[0]\n",
        "\n",
        "#with open('content/output_audio.ogg','wb') as audio_file:\n",
        " # audio_file.write(audio_data)"
      ],
      "metadata": {
        "id": "MtjSdbhrqOXz"
      },
      "execution_count": 55,
      "outputs": []
    },
    {
      "cell_type": "code",
      "source": [
        "lengths = []\n",
        "\n",
        "for sample in df.audio:\n",
        "    lengths.append(len(sample['bytes']))\n",
        "\n",
        "plt.scatter(range(1000),lengths)"
      ],
      "metadata": {
        "colab": {
          "base_uri": "https://localhost:8080/",
          "height": 447
        },
        "id": "sVg2BK6SzypD",
        "outputId": "3be8dfd2-8044-44c4-f339-6c877c54e4a7"
      },
      "execution_count": null,
      "outputs": [
        {
          "output_type": "execute_result",
          "data": {
            "text/plain": [
              "<matplotlib.collections.PathCollection at 0x7b497149a6b0>"
            ]
          },
          "metadata": {},
          "execution_count": 57
        },
        {
          "output_type": "display_data",
          "data": {
            "text/plain": [
              "<Figure size 640x480 with 1 Axes>"
            ],
            "image/png": "[encoded data removed]"
          },
          "metadata": {}
        }
      ]
    },
    {
      "cell_type": "code",
      "source": [
        "print(\"Longest song (bytes?)\", max(lengths))\n",
        "print(\"Shortest song (bytes?)\", min(lengths))\n",
        "print(\"Average song (bytes?)\", np.mean(lengths))"
      ],
      "metadata": {
        "colab": {
          "base_uri": "https://localhost:8080/"
        },
        "id": "oi0fXJ2lzyrb",
        "outputId": "93ebf3cb-21a8-4358-d97e-e1ac3e95d520"
      },
      "execution_count": null,
      "outputs": [
        {
          "output_type": "stream",
          "name": "stdout",
          "text": [
            "Longest song (bytes?) 659948\n",
            "Shortest song (bytes?) 23181\n",
            "Average song (bytes?) 391207.36\n"
          ]
        }
      ]
    },
    {
      "cell_type": "markdown",
      "source": [
        "This could technically be an issue if whatever architecture we're using requires a constant length input.\n",
        "\n",
        "If so, we could always pad with zeros, or randomly sample 23181 bytes(?) from every longer track."
      ],
      "metadata": {
        "id": "_9K6-7ds1Wyw"
      }
    },
    {
      "cell_type": "code",
      "source": [],
      "metadata": {
        "id": "sXj480tCzyuC"
      },
      "execution_count": null,
      "outputs": []
    }
  ]
}