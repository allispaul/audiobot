{
 "cells": [
  {
   "cell_type": "code",
   "execution_count": 9,
   "id": "51572b2a-82f3-4d01-bf7f-e683841e4203",
   "metadata": {
    "tags": []
   },
   "outputs": [],
   "source": [
    "import numpy as np\n",
    "import pandas as pd\n",
    "from IPython.display import Audio\n",
    "from datasets import load_dataset\n",
    "from datasets import Audio as dsets_Audio"
   ]
  },
  {
   "cell_type": "code",
   "execution_count": 3,
   "id": "8197155e-ddb7-4945-87e8-60ba8ccf65ea",
   "metadata": {
    "tags": []
   },
   "outputs": [
    {
     "data": {
      "text/plain": [
       "Dataset({\n",
       "    features: ['audio', 'song_id', 'genre_id', 'genre'],\n",
       "    num_rows: 1000\n",
       "})"
      ]
     },
     "execution_count": 3,
     "metadata": {},
     "output_type": "execute_result"
    }
   ],
   "source": [
    "RATE = 16_000\n",
    "songs = load_dataset(\"lewtun/music_genres_small\", split='train')\n",
    "songs = songs.cast_column(\"audio\", dsets_Audio(sampling_rate=RATE))\n",
    "songs"
   ]
  },
  {
   "cell_type": "code",
   "execution_count": 6,
   "id": "4b9b139f-de07-4007-9468-6d5819678ddd",
   "metadata": {
    "tags": []
   },
   "outputs": [],
   "source": [
    "from pathlib import Path\n",
    "import os\n",
    "\n",
    "SAVE_DIR = Path(\"../data/\")\n",
    "if not os.path.exists(SAVE_DIR):\n",
    "    os.mkdir(SAVE_DIR)"
   ]
  },
  {
   "cell_type": "code",
   "execution_count": 8,
   "id": "dc0d1811-d2b2-4092-a3b2-08dcb4b12922",
   "metadata": {
    "tags": []
   },
   "outputs": [
    {
     "data": {
      "application/vnd.jupyter.widget-view+json": {
       "model_id": "85b5cf0e54084d76aaafb06a89501e84",
       "version_major": 2,
       "version_minor": 0
      },
      "text/plain": [
       "  0%|          | 0/1000 [00:00<?, ?it/s]"
      ]
     },
     "metadata": {},
     "output_type": "display_data"
    }
   ],
   "source": [
    "from tqdm.auto import tqdm\n",
    "for song in tqdm(songs):\n",
    "    np.save(SAVE_DIR / f\"{song['song_id']}_{song['audio']['sampling_rate']}.npy\", song[\"audio\"][\"array\"])"
   ]
  },
  {
   "cell_type": "code",
   "execution_count": 12,
   "id": "f2705daa-e6f4-4913-9fbc-80d1e574cb58",
   "metadata": {
    "tags": []
   },
   "outputs": [
    {
     "data": {
      "text/html": [
       "<div>\n",
       "<style scoped>\n",
       "    .dataframe tbody tr th:only-of-type {\n",
       "        vertical-align: middle;\n",
       "    }\n",
       "\n",
       "    .dataframe tbody tr th {\n",
       "        vertical-align: top;\n",
       "    }\n",
       "\n",
       "    .dataframe thead th {\n",
       "        text-align: right;\n",
       "    }\n",
       "</style>\n",
       "<table border=\"1\" class=\"dataframe\">\n",
       "  <thead>\n",
       "    <tr style=\"text-align: right;\">\n",
       "      <th></th>\n",
       "      <th>song_id</th>\n",
       "      <th>path</th>\n",
       "      <th>genre_id</th>\n",
       "      <th>genre</th>\n",
       "    </tr>\n",
       "  </thead>\n",
       "  <tbody>\n",
       "    <tr>\n",
       "      <th>0</th>\n",
       "      <td>11483</td>\n",
       "      <td>../data/11483_16000.npy</td>\n",
       "      <td>9</td>\n",
       "      <td>International</td>\n",
       "    </tr>\n",
       "    <tr>\n",
       "      <th>1</th>\n",
       "      <td>6824</td>\n",
       "      <td>../data/6824_16000.npy</td>\n",
       "      <td>9</td>\n",
       "      <td>International</td>\n",
       "    </tr>\n",
       "    <tr>\n",
       "      <th>2</th>\n",
       "      <td>8361</td>\n",
       "      <td>../data/8361_16000.npy</td>\n",
       "      <td>8</td>\n",
       "      <td>Pop</td>\n",
       "    </tr>\n",
       "    <tr>\n",
       "      <th>3</th>\n",
       "      <td>12269</td>\n",
       "      <td>../data/12269_16000.npy</td>\n",
       "      <td>9</td>\n",
       "      <td>International</td>\n",
       "    </tr>\n",
       "    <tr>\n",
       "      <th>4</th>\n",
       "      <td>1063</td>\n",
       "      <td>../data/1063_16000.npy</td>\n",
       "      <td>0</td>\n",
       "      <td>Electronic</td>\n",
       "    </tr>\n",
       "    <tr>\n",
       "      <th>...</th>\n",
       "      <td>...</td>\n",
       "      <td>...</td>\n",
       "      <td>...</td>\n",
       "      <td>...</td>\n",
       "    </tr>\n",
       "    <tr>\n",
       "      <th>995</th>\n",
       "      <td>10387</td>\n",
       "      <td>../data/10387_16000.npy</td>\n",
       "      <td>5</td>\n",
       "      <td>Folk</td>\n",
       "    </tr>\n",
       "    <tr>\n",
       "      <th>996</th>\n",
       "      <td>22075</td>\n",
       "      <td>../data/22075_16000.npy</td>\n",
       "      <td>6</td>\n",
       "      <td>Chiptune / Glitch</td>\n",
       "    </tr>\n",
       "    <tr>\n",
       "      <th>997</th>\n",
       "      <td>24724</td>\n",
       "      <td>../data/24724_16000.npy</td>\n",
       "      <td>9</td>\n",
       "      <td>International</td>\n",
       "    </tr>\n",
       "    <tr>\n",
       "      <th>998</th>\n",
       "      <td>18869</td>\n",
       "      <td>../data/18869_16000.npy</td>\n",
       "      <td>9</td>\n",
       "      <td>International</td>\n",
       "    </tr>\n",
       "    <tr>\n",
       "      <th>999</th>\n",
       "      <td>17698</td>\n",
       "      <td>../data/17698_16000.npy</td>\n",
       "      <td>6</td>\n",
       "      <td>Chiptune / Glitch</td>\n",
       "    </tr>\n",
       "  </tbody>\n",
       "</table>\n",
       "<p>1000 rows × 4 columns</p>\n",
       "</div>"
      ],
      "text/plain": [
       "     song_id                     path  genre_id              genre\n",
       "0      11483  ../data/11483_16000.npy         9      International\n",
       "1       6824   ../data/6824_16000.npy         9      International\n",
       "2       8361   ../data/8361_16000.npy         8                Pop\n",
       "3      12269  ../data/12269_16000.npy         9      International\n",
       "4       1063   ../data/1063_16000.npy         0         Electronic\n",
       "..       ...                      ...       ...                ...\n",
       "995    10387  ../data/10387_16000.npy         5               Folk\n",
       "996    22075  ../data/22075_16000.npy         6  Chiptune / Glitch\n",
       "997    24724  ../data/24724_16000.npy         9      International\n",
       "998    18869  ../data/18869_16000.npy         9      International\n",
       "999    17698  ../data/17698_16000.npy         6  Chiptune / Glitch\n",
       "\n",
       "[1000 rows x 4 columns]"
      ]
     },
     "execution_count": 12,
     "metadata": {},
     "output_type": "execute_result"
    }
   ],
   "source": [
    "paths = [SAVE_DIR / f\"{song['song_id']}_{song['audio']['sampling_rate']}.npy\" for song in songs]\n",
    "metadata = pd.DataFrame({\n",
    "    \"song_id\": songs[\"song_id\"],\n",
    "    \"path\": paths,\n",
    "    \"genre_id\": songs[\"genre_id\"],\n",
    "    \"genre\": songs[\"genre\"]\n",
    "})\n",
    "metadata"
   ]
  },
  {
   "cell_type": "code",
   "execution_count": 13,
   "id": "29dd5af8-752f-433a-a7ba-66670b1a8372",
   "metadata": {
    "tags": []
   },
   "outputs": [],
   "source": [
    "metadata.to_csv(SAVE_DIR / f\"metadata_{RATE}.csv\")"
   ]
  },
  {
   "cell_type": "code",
   "execution_count": null,
   "id": "69da711f-b78a-4716-9475-9be78c582ab5",
   "metadata": {},
   "outputs": [],
   "source": []
  }
 ],
 "metadata": {
  "kernelspec": {
   "display_name": "ML",
   "language": "python",
   "name": "ml"
  },
  "language_info": {
   "codemirror_mode": {
    "name": "ipython",
    "version": 3
   },
   "file_extension": ".py",
   "mimetype": "text/x-python",
   "name": "python",
   "nbconvert_exporter": "python",
   "pygments_lexer": "ipython3",
   "version": "3.10.12"
  }
 },
 "nbformat": 4,
 "nbformat_minor": 5
}
