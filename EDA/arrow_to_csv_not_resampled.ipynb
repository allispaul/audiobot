{
 "cells": [
  {
   "cell_type": "markdown",
   "id": "aa2d8ac1",
   "metadata": {},
   "source": [
    "# Dataframe containing data saved as csv, not resampled\n",
    "\n",
    "This document was used to create a csv file containing the desired data (not resampled)."
   ]
  },
  {
   "cell_type": "code",
   "execution_count": 2,
   "id": "a4a9d0a3",
   "metadata": {},
   "outputs": [
    {
     "name": "stderr",
     "output_type": "stream",
     "text": [
      "Found cached dataset parquet (C:/Users/blind/.cache/huggingface/datasets/lewtun___parquet/lewtun--music_genres_small-2686d03f87ff3ace/0.0.0/2a3b91fbd88a2c90d1dbbb32b460cf621d31bd5b05b934492fdef7d8d6f236ec)\n"
     ]
    },
    {
     "data": {
      "text/plain": [
       "Dataset({\n",
       "    features: ['audio', 'song_id', 'genre_id', 'genre'],\n",
       "    num_rows: 1000\n",
       "})"
      ]
     },
     "execution_count": 2,
     "metadata": {},
     "output_type": "execute_result"
    }
   ],
   "source": [
    "from datasets import load_dataset\n",
    "\n",
    "songs = load_dataset(\"lewtun/music_genres_small\", split='train')\n",
    "songs"
   ]
  },
  {
   "cell_type": "code",
   "execution_count": 4,
   "id": "b3077de3",
   "metadata": {},
   "outputs": [
    {
     "data": {
      "text/plain": [
       "datasets.arrow_dataset.Dataset"
      ]
     },
     "execution_count": 4,
     "metadata": {},
     "output_type": "execute_result"
    }
   ],
   "source": [
    "type(songs)"
   ]
  },
  {
   "cell_type": "code",
   "execution_count": 9,
   "id": "66b7789c",
   "metadata": {},
   "outputs": [],
   "source": [
    "array = [songs[i]['audio']['array'] for i in range(len(songs))]"
   ]
  },
  {
   "cell_type": "code",
   "execution_count": 10,
   "id": "a82a1373",
   "metadata": {},
   "outputs": [],
   "source": [
    "sampling_rate = [songs[i]['audio']['sampling_rate'] for i in range(len(songs))]"
   ]
  },
  {
   "cell_type": "code",
   "execution_count": 11,
   "id": "79715949",
   "metadata": {},
   "outputs": [],
   "source": [
    "song_id = [songs[i]['song_id'] for i in range(len(songs))]"
   ]
  },
  {
   "cell_type": "code",
   "execution_count": 12,
   "id": "4db031b4",
   "metadata": {},
   "outputs": [],
   "source": [
    "genre_id = [songs[i]['genre_id'] for i in range(len(songs))]"
   ]
  },
  {
   "cell_type": "code",
   "execution_count": 13,
   "id": "82b0b207",
   "metadata": {},
   "outputs": [],
   "source": [
    "genre = [songs[i]['genre'] for i in range(len(songs))]"
   ]
  },
  {
   "cell_type": "code",
   "execution_count": 6,
   "id": "c2c488d0",
   "metadata": {},
   "outputs": [
    {
     "data": {
      "text/plain": [
       "{'audio': {'path': None,\n",
       "  'array': array([1.00427963e-10, 1.75107051e-09, 7.35211780e-10, ...,\n",
       "         5.83759369e-03, 8.89943959e-03, 1.40173053e-02]),\n",
       "  'sampling_rate': 44100},\n",
       " 'song_id': 6824,\n",
       " 'genre_id': 9,\n",
       " 'genre': 'International'}"
      ]
     },
     "execution_count": 6,
     "metadata": {},
     "output_type": "execute_result"
    }
   ],
   "source": [
    "songs[1]"
   ]
  },
  {
   "cell_type": "code",
   "execution_count": 14,
   "id": "33519750",
   "metadata": {},
   "outputs": [],
   "source": [
    "d = {'array': array, 'sampling_rate': sampling_rate, 'song_id': song_id, 'genre_id': genre_id, 'genre': genre}"
   ]
  },
  {
   "cell_type": "code",
   "execution_count": 16,
   "id": "df2afd96",
   "metadata": {},
   "outputs": [],
   "source": [
    "import pandas as pd"
   ]
  },
  {
   "cell_type": "code",
   "execution_count": 17,
   "id": "cb80c7df",
   "metadata": {},
   "outputs": [],
   "source": [
    "df = pd.DataFrame(data=d)"
   ]
  },
  {
   "cell_type": "code",
   "execution_count": 18,
   "id": "0a74bc3f",
   "metadata": {
    "scrolled": true
   },
   "outputs": [
    {
     "data": {
      "text/html": [
       "<div>\n",
       "<style scoped>\n",
       "    .dataframe tbody tr th:only-of-type {\n",
       "        vertical-align: middle;\n",
       "    }\n",
       "\n",
       "    .dataframe tbody tr th {\n",
       "        vertical-align: top;\n",
       "    }\n",
       "\n",
       "    .dataframe thead th {\n",
       "        text-align: right;\n",
       "    }\n",
       "</style>\n",
       "<table border=\"1\" class=\"dataframe\">\n",
       "  <thead>\n",
       "    <tr style=\"text-align: right;\">\n",
       "      <th></th>\n",
       "      <th>array</th>\n",
       "      <th>sampling_rate</th>\n",
       "      <th>song_id</th>\n",
       "      <th>genre_id</th>\n",
       "      <th>genre</th>\n",
       "    </tr>\n",
       "  </thead>\n",
       "  <tbody>\n",
       "    <tr>\n",
       "      <th>0</th>\n",
       "      <td>[0.0, 0.0, 0.0, 0.0, 0.0, 0.0, 0.0, 0.0, 0.0, ...</td>\n",
       "      <td>44100</td>\n",
       "      <td>11483</td>\n",
       "      <td>9</td>\n",
       "      <td>International</td>\n",
       "    </tr>\n",
       "    <tr>\n",
       "      <th>1</th>\n",
       "      <td>[1.004279628208371e-10, 1.7510705108136904e-09...</td>\n",
       "      <td>44100</td>\n",
       "      <td>6824</td>\n",
       "      <td>9</td>\n",
       "      <td>International</td>\n",
       "    </tr>\n",
       "    <tr>\n",
       "      <th>2</th>\n",
       "      <td>[7.680950009358867e-07, 6.798820919584614e-07,...</td>\n",
       "      <td>44100</td>\n",
       "      <td>8361</td>\n",
       "      <td>8</td>\n",
       "      <td>Pop</td>\n",
       "    </tr>\n",
       "    <tr>\n",
       "      <th>3</th>\n",
       "      <td>[0.26938436180353165, 0.31946009397506714, 0.3...</td>\n",
       "      <td>44100</td>\n",
       "      <td>12269</td>\n",
       "      <td>9</td>\n",
       "      <td>International</td>\n",
       "    </tr>\n",
       "    <tr>\n",
       "      <th>4</th>\n",
       "      <td>[-8.3951314877595e-07, -6.866222008738987e-07,...</td>\n",
       "      <td>44100</td>\n",
       "      <td>1063</td>\n",
       "      <td>0</td>\n",
       "      <td>Electronic</td>\n",
       "    </tr>\n",
       "  </tbody>\n",
       "</table>\n",
       "</div>"
      ],
      "text/plain": [
       "                                               array  sampling_rate  song_id  \\\n",
       "0  [0.0, 0.0, 0.0, 0.0, 0.0, 0.0, 0.0, 0.0, 0.0, ...          44100    11483   \n",
       "1  [1.004279628208371e-10, 1.7510705108136904e-09...          44100     6824   \n",
       "2  [7.680950009358867e-07, 6.798820919584614e-07,...          44100     8361   \n",
       "3  [0.26938436180353165, 0.31946009397506714, 0.3...          44100    12269   \n",
       "4  [-8.3951314877595e-07, -6.866222008738987e-07,...          44100     1063   \n",
       "\n",
       "   genre_id          genre  \n",
       "0         9  International  \n",
       "1         9  International  \n",
       "2         8            Pop  \n",
       "3         9  International  \n",
       "4         0     Electronic  "
      ]
     },
     "execution_count": 18,
     "metadata": {},
     "output_type": "execute_result"
    }
   ],
   "source": [
    "df.head()"
   ]
  },
  {
   "cell_type": "code",
   "execution_count": 19,
   "id": "d9aca027",
   "metadata": {},
   "outputs": [],
   "source": [
    "df.to_csv('audio_not_resampled.csv')"
   ]
  },
  {
   "cell_type": "code",
   "execution_count": null,
   "id": "51e87c9e",
   "metadata": {},
   "outputs": [],
   "source": []
  }
 ],
 "metadata": {
  "kernelspec": {
   "display_name": "Python 3 (ipykernel)",
   "language": "python",
   "name": "python3"
  },
  "language_info": {
   "codemirror_mode": {
    "name": "ipython",
    "version": 3
   },
   "file_extension": ".py",
   "mimetype": "text/x-python",
   "name": "python",
   "nbconvert_exporter": "python",
   "pygments_lexer": "ipython3",
   "version": "3.11.5"
  }
 },
 "nbformat": 4,
 "nbformat_minor": 5
}
