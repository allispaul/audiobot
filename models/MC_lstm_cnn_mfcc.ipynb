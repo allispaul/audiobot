{
  "nbformat": 4,
  "nbformat_minor": 0,
  "metadata": {
    "colab": {
      "provenance": [],
      "toc_visible": true,
      "machine_shape": "hm",
      "gpuType": "V100"
    },
    "kernelspec": {
      "name": "python3",
      "display_name": "Python 3"
    },
    "language_info": {
      "name": "python"
    },
    "accelerator": "GPU",
    "widgets": {
      "application/vnd.jupyter.widget-state+json": {
        "a59f896231844a9fa58492e20a4236cc": {
          "model_module": "@jupyter-widgets/controls",
          "model_name": "HBoxModel",
          "model_module_version": "1.5.0",
          "state": {
            "_dom_classes": [],
            "_model_module": "@jupyter-widgets/controls",
            "_model_module_version": "1.5.0",
            "_model_name": "HBoxModel",
            "_view_count": null,
            "_view_module": "@jupyter-widgets/controls",
            "_view_module_version": "1.5.0",
            "_view_name": "HBoxView",
            "box_style": "",
            "children": [
              "IPY_MODEL_0ad7116137994043adea524df657eb0f",
              "IPY_MODEL_db97f93728d0402790e84a8fb18cd7a7",
              "IPY_MODEL_06fd54b07beb4ff99eeb4e733893e8cc"
            ],
            "layout": "IPY_MODEL_05da34f1bc824239a2002bf0d2113cde"
          }
        },
        "0ad7116137994043adea524df657eb0f": {
          "model_module": "@jupyter-widgets/controls",
          "model_name": "HTMLModel",
          "model_module_version": "1.5.0",
          "state": {
            "_dom_classes": [],
            "_model_module": "@jupyter-widgets/controls",
            "_model_module_version": "1.5.0",
            "_model_name": "HTMLModel",
            "_view_count": null,
            "_view_module": "@jupyter-widgets/controls",
            "_view_module_version": "1.5.0",
            "_view_name": "HTMLView",
            "description": "",
            "description_tooltip": null,
            "layout": "IPY_MODEL_a848736dde054be99671e0199d966333",
            "placeholder": "​",
            "style": "IPY_MODEL_bef8a48be2b8468aa31a950cefbf5215",
            "value": "Downloading builder script: 100%"
          }
        },
        "db97f93728d0402790e84a8fb18cd7a7": {
          "model_module": "@jupyter-widgets/controls",
          "model_name": "FloatProgressModel",
          "model_module_version": "1.5.0",
          "state": {
            "_dom_classes": [],
            "_model_module": "@jupyter-widgets/controls",
            "_model_module_version": "1.5.0",
            "_model_name": "FloatProgressModel",
            "_view_count": null,
            "_view_module": "@jupyter-widgets/controls",
            "_view_module_version": "1.5.0",
            "_view_name": "ProgressView",
            "bar_style": "success",
            "description": "",
            "description_tooltip": null,
            "layout": "IPY_MODEL_db4c238a5e36439caacedf989dbed2e7",
            "max": 3355,
            "min": 0,
            "orientation": "horizontal",
            "style": "IPY_MODEL_4125e7f81fbd4b92a9806c3f1b152de2",
            "value": 3355
          }
        },
        "06fd54b07beb4ff99eeb4e733893e8cc": {
          "model_module": "@jupyter-widgets/controls",
          "model_name": "HTMLModel",
          "model_module_version": "1.5.0",
          "state": {
            "_dom_classes": [],
            "_model_module": "@jupyter-widgets/controls",
            "_model_module_version": "1.5.0",
            "_model_name": "HTMLModel",
            "_view_count": null,
            "_view_module": "@jupyter-widgets/controls",
            "_view_module_version": "1.5.0",
            "_view_name": "HTMLView",
            "description": "",
            "description_tooltip": null,
            "layout": "IPY_MODEL_373008fbb1d245abb9f4b215dd0ccbd6",
            "placeholder": "​",
            "style": "IPY_MODEL_91a13093202e44bb9c74d5c565d22023",
            "value": " 3.35k/3.35k [00:00&lt;00:00, 288kB/s]"
          }
        },
        "05da34f1bc824239a2002bf0d2113cde": {
          "model_module": "@jupyter-widgets/base",
          "model_name": "LayoutModel",
          "model_module_version": "1.2.0",
          "state": {
            "_model_module": "@jupyter-widgets/base",
            "_model_module_version": "1.2.0",
            "_model_name": "LayoutModel",
            "_view_count": null,
            "_view_module": "@jupyter-widgets/base",
            "_view_module_version": "1.2.0",
            "_view_name": "LayoutView",
            "align_content": null,
            "align_items": null,
            "align_self": null,
            "border": null,
            "bottom": null,
            "display": null,
            "flex": null,
            "flex_flow": null,
            "grid_area": null,
            "grid_auto_columns": null,
            "grid_auto_flow": null,
            "grid_auto_rows": null,
            "grid_column": null,
            "grid_gap": null,
            "grid_row": null,
            "grid_template_areas": null,
            "grid_template_columns": null,
            "grid_template_rows": null,
            "height": null,
            "justify_content": null,
            "justify_items": null,
            "left": null,
            "margin": null,
            "max_height": null,
            "max_width": null,
            "min_height": null,
            "min_width": null,
            "object_fit": null,
            "object_position": null,
            "order": null,
            "overflow": null,
            "overflow_x": null,
            "overflow_y": null,
            "padding": null,
            "right": null,
            "top": null,
            "visibility": null,
            "width": null
          }
        },
        "a848736dde054be99671e0199d966333": {
          "model_module": "@jupyter-widgets/base",
          "model_name": "LayoutModel",
          "model_module_version": "1.2.0",
          "state": {
            "_model_module": "@jupyter-widgets/base",
            "_model_module_version": "1.2.0",
            "_model_name": "LayoutModel",
            "_view_count": null,
            "_view_module": "@jupyter-widgets/base",
            "_view_module_version": "1.2.0",
            "_view_name": "LayoutView",
            "align_content": null,
            "align_items": null,
            "align_self": null,
            "border": null,
            "bottom": null,
            "display": null,
            "flex": null,
            "flex_flow": null,
            "grid_area": null,
            "grid_auto_columns": null,
            "grid_auto_flow": null,
            "grid_auto_rows": null,
            "grid_column": null,
            "grid_gap": null,
            "grid_row": null,
            "grid_template_areas": null,
            "grid_template_columns": null,
            "grid_template_rows": null,
            "height": null,
            "justify_content": null,
            "justify_items": null,
            "left": null,
            "margin": null,
            "max_height": null,
            "max_width": null,
            "min_height": null,
            "min_width": null,
            "object_fit": null,
            "object_position": null,
            "order": null,
            "overflow": null,
            "overflow_x": null,
            "overflow_y": null,
            "padding": null,
            "right": null,
            "top": null,
            "visibility": null,
            "width": null
          }
        },
        "bef8a48be2b8468aa31a950cefbf5215": {
          "model_module": "@jupyter-widgets/controls",
          "model_name": "DescriptionStyleModel",
          "model_module_version": "1.5.0",
          "state": {
            "_model_module": "@jupyter-widgets/controls",
            "_model_module_version": "1.5.0",
            "_model_name": "DescriptionStyleModel",
            "_view_count": null,
            "_view_module": "@jupyter-widgets/base",
            "_view_module_version": "1.2.0",
            "_view_name": "StyleView",
            "description_width": ""
          }
        },
        "db4c238a5e36439caacedf989dbed2e7": {
          "model_module": "@jupyter-widgets/base",
          "model_name": "LayoutModel",
          "model_module_version": "1.2.0",
          "state": {
            "_model_module": "@jupyter-widgets/base",
            "_model_module_version": "1.2.0",
            "_model_name": "LayoutModel",
            "_view_count": null,
            "_view_module": "@jupyter-widgets/base",
            "_view_module_version": "1.2.0",
            "_view_name": "LayoutView",
            "align_content": null,
            "align_items": null,
            "align_self": null,
            "border": null,
            "bottom": null,
            "display": null,
            "flex": null,
            "flex_flow": null,
            "grid_area": null,
            "grid_auto_columns": null,
            "grid_auto_flow": null,
            "grid_auto_rows": null,
            "grid_column": null,
            "grid_gap": null,
            "grid_row": null,
            "grid_template_areas": null,
            "grid_template_columns": null,
            "grid_template_rows": null,
            "height": null,
            "justify_content": null,
            "justify_items": null,
            "left": null,
            "margin": null,
            "max_height": null,
            "max_width": null,
            "min_height": null,
            "min_width": null,
            "object_fit": null,
            "object_position": null,
            "order": null,
            "overflow": null,
            "overflow_x": null,
            "overflow_y": null,
            "padding": null,
            "right": null,
            "top": null,
            "visibility": null,
            "width": null
          }
        },
        "4125e7f81fbd4b92a9806c3f1b152de2": {
          "model_module": "@jupyter-widgets/controls",
          "model_name": "ProgressStyleModel",
          "model_module_version": "1.5.0",
          "state": {
            "_model_module": "@jupyter-widgets/controls",
            "_model_module_version": "1.5.0",
            "_model_name": "ProgressStyleModel",
            "_view_count": null,
            "_view_module": "@jupyter-widgets/base",
            "_view_module_version": "1.2.0",
            "_view_name": "StyleView",
            "bar_color": null,
            "description_width": ""
          }
        },
        "373008fbb1d245abb9f4b215dd0ccbd6": {
          "model_module": "@jupyter-widgets/base",
          "model_name": "LayoutModel",
          "model_module_version": "1.2.0",
          "state": {
            "_model_module": "@jupyter-widgets/base",
            "_model_module_version": "1.2.0",
            "_model_name": "LayoutModel",
            "_view_count": null,
            "_view_module": "@jupyter-widgets/base",
            "_view_module_version": "1.2.0",
            "_view_name": "LayoutView",
            "align_content": null,
            "align_items": null,
            "align_self": null,
            "border": null,
            "bottom": null,
            "display": null,
            "flex": null,
            "flex_flow": null,
            "grid_area": null,
            "grid_auto_columns": null,
            "grid_auto_flow": null,
            "grid_auto_rows": null,
            "grid_column": null,
            "grid_gap": null,
            "grid_row": null,
            "grid_template_areas": null,
            "grid_template_columns": null,
            "grid_template_rows": null,
            "height": null,
            "justify_content": null,
            "justify_items": null,
            "left": null,
            "margin": null,
            "max_height": null,
            "max_width": null,
            "min_height": null,
            "min_width": null,
            "object_fit": null,
            "object_position": null,
            "order": null,
            "overflow": null,
            "overflow_x": null,
            "overflow_y": null,
            "padding": null,
            "right": null,
            "top": null,
            "visibility": null,
            "width": null
          }
        },
        "91a13093202e44bb9c74d5c565d22023": {
          "model_module": "@jupyter-widgets/controls",
          "model_name": "DescriptionStyleModel",
          "model_module_version": "1.5.0",
          "state": {
            "_model_module": "@jupyter-widgets/controls",
            "_model_module_version": "1.5.0",
            "_model_name": "DescriptionStyleModel",
            "_view_count": null,
            "_view_module": "@jupyter-widgets/base",
            "_view_module_version": "1.2.0",
            "_view_name": "StyleView",
            "description_width": ""
          }
        },
        "735e2738e97b4e4ab3894815fc9ede4d": {
          "model_module": "@jupyter-widgets/controls",
          "model_name": "HBoxModel",
          "model_module_version": "1.5.0",
          "state": {
            "_dom_classes": [],
            "_model_module": "@jupyter-widgets/controls",
            "_model_module_version": "1.5.0",
            "_model_name": "HBoxModel",
            "_view_count": null,
            "_view_module": "@jupyter-widgets/controls",
            "_view_module_version": "1.5.0",
            "_view_name": "HBoxView",
            "box_style": "",
            "children": [
              "IPY_MODEL_c0de5ebce9d04de789fa3082079e9fa9",
              "IPY_MODEL_fb8c7d5e4f434bc89c5ae37ee0f693ca",
              "IPY_MODEL_68867507a5e8408c92d5822f826c1c4e"
            ],
            "layout": "IPY_MODEL_15929716efe747e3ad3aca9058845c4c"
          }
        },
        "c0de5ebce9d04de789fa3082079e9fa9": {
          "model_module": "@jupyter-widgets/controls",
          "model_name": "HTMLModel",
          "model_module_version": "1.5.0",
          "state": {
            "_dom_classes": [],
            "_model_module": "@jupyter-widgets/controls",
            "_model_module_version": "1.5.0",
            "_model_name": "HTMLModel",
            "_view_count": null,
            "_view_module": "@jupyter-widgets/controls",
            "_view_module_version": "1.5.0",
            "_view_name": "HTMLView",
            "description": "",
            "description_tooltip": null,
            "layout": "IPY_MODEL_d29ed23c47144217bf4f8f618ccf09b1",
            "placeholder": "​",
            "style": "IPY_MODEL_22b9762f94254ddf93ce090dc20fa6db",
            "value": "Downloading readme: 100%"
          }
        },
        "fb8c7d5e4f434bc89c5ae37ee0f693ca": {
          "model_module": "@jupyter-widgets/controls",
          "model_name": "FloatProgressModel",
          "model_module_version": "1.5.0",
          "state": {
            "_dom_classes": [],
            "_model_module": "@jupyter-widgets/controls",
            "_model_module_version": "1.5.0",
            "_model_name": "FloatProgressModel",
            "_view_count": null,
            "_view_module": "@jupyter-widgets/controls",
            "_view_module_version": "1.5.0",
            "_view_name": "ProgressView",
            "bar_style": "success",
            "description": "",
            "description_tooltip": null,
            "layout": "IPY_MODEL_3e5e399349e647309c7e9608a994e472",
            "max": 4424,
            "min": 0,
            "orientation": "horizontal",
            "style": "IPY_MODEL_05c1a3dad7084af3b66ffec89c46178b",
            "value": 4424
          }
        },
        "68867507a5e8408c92d5822f826c1c4e": {
          "model_module": "@jupyter-widgets/controls",
          "model_name": "HTMLModel",
          "model_module_version": "1.5.0",
          "state": {
            "_dom_classes": [],
            "_model_module": "@jupyter-widgets/controls",
            "_model_module_version": "1.5.0",
            "_model_name": "HTMLModel",
            "_view_count": null,
            "_view_module": "@jupyter-widgets/controls",
            "_view_module_version": "1.5.0",
            "_view_name": "HTMLView",
            "description": "",
            "description_tooltip": null,
            "layout": "IPY_MODEL_1b9ccae0d45440d8b53b01e74661cc80",
            "placeholder": "​",
            "style": "IPY_MODEL_b50007c7ada24fbfab9dfc04fa2e2038",
            "value": " 4.42k/4.42k [00:00&lt;00:00, 361kB/s]"
          }
        },
        "15929716efe747e3ad3aca9058845c4c": {
          "model_module": "@jupyter-widgets/base",
          "model_name": "LayoutModel",
          "model_module_version": "1.2.0",
          "state": {
            "_model_module": "@jupyter-widgets/base",
            "_model_module_version": "1.2.0",
            "_model_name": "LayoutModel",
            "_view_count": null,
            "_view_module": "@jupyter-widgets/base",
            "_view_module_version": "1.2.0",
            "_view_name": "LayoutView",
            "align_content": null,
            "align_items": null,
            "align_self": null,
            "border": null,
            "bottom": null,
            "display": null,
            "flex": null,
            "flex_flow": null,
            "grid_area": null,
            "grid_auto_columns": null,
            "grid_auto_flow": null,
            "grid_auto_rows": null,
            "grid_column": null,
            "grid_gap": null,
            "grid_row": null,
            "grid_template_areas": null,
            "grid_template_columns": null,
            "grid_template_rows": null,
            "height": null,
            "justify_content": null,
            "justify_items": null,
            "left": null,
            "margin": null,
            "max_height": null,
            "max_width": null,
            "min_height": null,
            "min_width": null,
            "object_fit": null,
            "object_position": null,
            "order": null,
            "overflow": null,
            "overflow_x": null,
            "overflow_y": null,
            "padding": null,
            "right": null,
            "top": null,
            "visibility": null,
            "width": null
          }
        },
        "d29ed23c47144217bf4f8f618ccf09b1": {
          "model_module": "@jupyter-widgets/base",
          "model_name": "LayoutModel",
          "model_module_version": "1.2.0",
          "state": {
            "_model_module": "@jupyter-widgets/base",
            "_model_module_version": "1.2.0",
            "_model_name": "LayoutModel",
            "_view_count": null,
            "_view_module": "@jupyter-widgets/base",
            "_view_module_version": "1.2.0",
            "_view_name": "LayoutView",
            "align_content": null,
            "align_items": null,
            "align_self": null,
            "border": null,
            "bottom": null,
            "display": null,
            "flex": null,
            "flex_flow": null,
            "grid_area": null,
            "grid_auto_columns": null,
            "grid_auto_flow": null,
            "grid_auto_rows": null,
            "grid_column": null,
            "grid_gap": null,
            "grid_row": null,
            "grid_template_areas": null,
            "grid_template_columns": null,
            "grid_template_rows": null,
            "height": null,
            "justify_content": null,
            "justify_items": null,
            "left": null,
            "margin": null,
            "max_height": null,
            "max_width": null,
            "min_height": null,
            "min_width": null,
            "object_fit": null,
            "object_position": null,
            "order": null,
            "overflow": null,
            "overflow_x": null,
            "overflow_y": null,
            "padding": null,
            "right": null,
            "top": null,
            "visibility": null,
            "width": null
          }
        },
        "22b9762f94254ddf93ce090dc20fa6db": {
          "model_module": "@jupyter-widgets/controls",
          "model_name": "DescriptionStyleModel",
          "model_module_version": "1.5.0",
          "state": {
            "_model_module": "@jupyter-widgets/controls",
            "_model_module_version": "1.5.0",
            "_model_name": "DescriptionStyleModel",
            "_view_count": null,
            "_view_module": "@jupyter-widgets/base",
            "_view_module_version": "1.2.0",
            "_view_name": "StyleView",
            "description_width": ""
          }
        },
        "3e5e399349e647309c7e9608a994e472": {
          "model_module": "@jupyter-widgets/base",
          "model_name": "LayoutModel",
          "model_module_version": "1.2.0",
          "state": {
            "_model_module": "@jupyter-widgets/base",
            "_model_module_version": "1.2.0",
            "_model_name": "LayoutModel",
            "_view_count": null,
            "_view_module": "@jupyter-widgets/base",
            "_view_module_version": "1.2.0",
            "_view_name": "LayoutView",
            "align_content": null,
            "align_items": null,
            "align_self": null,
            "border": null,
            "bottom": null,
            "display": null,
            "flex": null,
            "flex_flow": null,
            "grid_area": null,
            "grid_auto_columns": null,
            "grid_auto_flow": null,
            "grid_auto_rows": null,
            "grid_column": null,
            "grid_gap": null,
            "grid_row": null,
            "grid_template_areas": null,
            "grid_template_columns": null,
            "grid_template_rows": null,
            "height": null,
            "justify_content": null,
            "justify_items": null,
            "left": null,
            "margin": null,
            "max_height": null,
            "max_width": null,
            "min_height": null,
            "min_width": null,
            "object_fit": null,
            "object_position": null,
            "order": null,
            "overflow": null,
            "overflow_x": null,
            "overflow_y": null,
            "padding": null,
            "right": null,
            "top": null,
            "visibility": null,
            "width": null
          }
        },
        "05c1a3dad7084af3b66ffec89c46178b": {
          "model_module": "@jupyter-widgets/controls",
          "model_name": "ProgressStyleModel",
          "model_module_version": "1.5.0",
          "state": {
            "_model_module": "@jupyter-widgets/controls",
            "_model_module_version": "1.5.0",
            "_model_name": "ProgressStyleModel",
            "_view_count": null,
            "_view_module": "@jupyter-widgets/base",
            "_view_module_version": "1.2.0",
            "_view_name": "StyleView",
            "bar_color": null,
            "description_width": ""
          }
        },
        "1b9ccae0d45440d8b53b01e74661cc80": {
          "model_module": "@jupyter-widgets/base",
          "model_name": "LayoutModel",
          "model_module_version": "1.2.0",
          "state": {
            "_model_module": "@jupyter-widgets/base",
            "_model_module_version": "1.2.0",
            "_model_name": "LayoutModel",
            "_view_count": null,
            "_view_module": "@jupyter-widgets/base",
            "_view_module_version": "1.2.0",
            "_view_name": "LayoutView",
            "align_content": null,
            "align_items": null,
            "align_self": null,
            "border": null,
            "bottom": null,
            "display": null,
            "flex": null,
            "flex_flow": null,
            "grid_area": null,
            "grid_auto_columns": null,
            "grid_auto_flow": null,
            "grid_auto_rows": null,
            "grid_column": null,
            "grid_gap": null,
            "grid_row": null,
            "grid_template_areas": null,
            "grid_template_columns": null,
            "grid_template_rows": null,
            "height": null,
            "justify_content": null,
            "justify_items": null,
            "left": null,
            "margin": null,
            "max_height": null,
            "max_width": null,
            "min_height": null,
            "min_width": null,
            "object_fit": null,
            "object_position": null,
            "order": null,
            "overflow": null,
            "overflow_x": null,
            "overflow_y": null,
            "padding": null,
            "right": null,
            "top": null,
            "visibility": null,
            "width": null
          }
        },
        "b50007c7ada24fbfab9dfc04fa2e2038": {
          "model_module": "@jupyter-widgets/controls",
          "model_name": "DescriptionStyleModel",
          "model_module_version": "1.5.0",
          "state": {
            "_model_module": "@jupyter-widgets/controls",
            "_model_module_version": "1.5.0",
            "_model_name": "DescriptionStyleModel",
            "_view_count": null,
            "_view_module": "@jupyter-widgets/base",
            "_view_module_version": "1.2.0",
            "_view_name": "StyleView",
            "description_width": ""
          }
        },
        "659e319d31c446368fcfd091c8396fbb": {
          "model_module": "@jupyter-widgets/controls",
          "model_name": "HBoxModel",
          "model_module_version": "1.5.0",
          "state": {
            "_dom_classes": [],
            "_model_module": "@jupyter-widgets/controls",
            "_model_module_version": "1.5.0",
            "_model_name": "HBoxModel",
            "_view_count": null,
            "_view_module": "@jupyter-widgets/controls",
            "_view_module_version": "1.5.0",
            "_view_name": "HBoxView",
            "box_style": "",
            "children": [
              "IPY_MODEL_c9a42672ea0c41d5ab6d18de2e55db23",
              "IPY_MODEL_0658c2bf668a44b3aed8a15ef4f97245",
              "IPY_MODEL_59643c29646141e4a80c4a64cfc16d76"
            ],
            "layout": "IPY_MODEL_bdf9a575399a481b953fb892dca4c274"
          }
        },
        "c9a42672ea0c41d5ab6d18de2e55db23": {
          "model_module": "@jupyter-widgets/controls",
          "model_name": "HTMLModel",
          "model_module_version": "1.5.0",
          "state": {
            "_dom_classes": [],
            "_model_module": "@jupyter-widgets/controls",
            "_model_module_version": "1.5.0",
            "_model_name": "HTMLModel",
            "_view_count": null,
            "_view_module": "@jupyter-widgets/controls",
            "_view_module_version": "1.5.0",
            "_view_name": "HTMLView",
            "description": "",
            "description_tooltip": null,
            "layout": "IPY_MODEL_f992febc0d2145dcb7f941106b13eca5",
            "placeholder": "​",
            "style": "IPY_MODEL_66103ed1a917491990d1baa17e0c7459",
            "value": "Downloading data: 100%"
          }
        },
        "0658c2bf668a44b3aed8a15ef4f97245": {
          "model_module": "@jupyter-widgets/controls",
          "model_name": "FloatProgressModel",
          "model_module_version": "1.5.0",
          "state": {
            "_dom_classes": [],
            "_model_module": "@jupyter-widgets/controls",
            "_model_module_version": "1.5.0",
            "_model_name": "FloatProgressModel",
            "_view_count": null,
            "_view_module": "@jupyter-widgets/controls",
            "_view_module_version": "1.5.0",
            "_view_name": "ProgressView",
            "bar_style": "success",
            "description": "",
            "description_tooltip": null,
            "layout": "IPY_MODEL_bb37d04ed6564e25b710e8ea1fb902d7",
            "max": 1226192050,
            "min": 0,
            "orientation": "horizontal",
            "style": "IPY_MODEL_9230454e4d684d5cac25a75f9d548b2c",
            "value": 1226192050
          }
        },
        "59643c29646141e4a80c4a64cfc16d76": {
          "model_module": "@jupyter-widgets/controls",
          "model_name": "HTMLModel",
          "model_module_version": "1.5.0",
          "state": {
            "_dom_classes": [],
            "_model_module": "@jupyter-widgets/controls",
            "_model_module_version": "1.5.0",
            "_model_name": "HTMLModel",
            "_view_count": null,
            "_view_module": "@jupyter-widgets/controls",
            "_view_module_version": "1.5.0",
            "_view_name": "HTMLView",
            "description": "",
            "description_tooltip": null,
            "layout": "IPY_MODEL_c5749151321a4649b7ba33cd552b26a5",
            "placeholder": "​",
            "style": "IPY_MODEL_024c0c1fd05c41628a5b331b8aaacdd8",
            "value": " 1.23G/1.23G [00:14&lt;00:00, 79.0MB/s]"
          }
        },
        "bdf9a575399a481b953fb892dca4c274": {
          "model_module": "@jupyter-widgets/base",
          "model_name": "LayoutModel",
          "model_module_version": "1.2.0",
          "state": {
            "_model_module": "@jupyter-widgets/base",
            "_model_module_version": "1.2.0",
            "_model_name": "LayoutModel",
            "_view_count": null,
            "_view_module": "@jupyter-widgets/base",
            "_view_module_version": "1.2.0",
            "_view_name": "LayoutView",
            "align_content": null,
            "align_items": null,
            "align_self": null,
            "border": null,
            "bottom": null,
            "display": null,
            "flex": null,
            "flex_flow": null,
            "grid_area": null,
            "grid_auto_columns": null,
            "grid_auto_flow": null,
            "grid_auto_rows": null,
            "grid_column": null,
            "grid_gap": null,
            "grid_row": null,
            "grid_template_areas": null,
            "grid_template_columns": null,
            "grid_template_rows": null,
            "height": null,
            "justify_content": null,
            "justify_items": null,
            "left": null,
            "margin": null,
            "max_height": null,
            "max_width": null,
            "min_height": null,
            "min_width": null,
            "object_fit": null,
            "object_position": null,
            "order": null,
            "overflow": null,
            "overflow_x": null,
            "overflow_y": null,
            "padding": null,
            "right": null,
            "top": null,
            "visibility": null,
            "width": null
          }
        },
        "f992febc0d2145dcb7f941106b13eca5": {
          "model_module": "@jupyter-widgets/base",
          "model_name": "LayoutModel",
          "model_module_version": "1.2.0",
          "state": {
            "_model_module": "@jupyter-widgets/base",
            "_model_module_version": "1.2.0",
            "_model_name": "LayoutModel",
            "_view_count": null,
            "_view_module": "@jupyter-widgets/base",
            "_view_module_version": "1.2.0",
            "_view_name": "LayoutView",
            "align_content": null,
            "align_items": null,
            "align_self": null,
            "border": null,
            "bottom": null,
            "display": null,
            "flex": null,
            "flex_flow": null,
            "grid_area": null,
            "grid_auto_columns": null,
            "grid_auto_flow": null,
            "grid_auto_rows": null,
            "grid_column": null,
            "grid_gap": null,
            "grid_row": null,
            "grid_template_areas": null,
            "grid_template_columns": null,
            "grid_template_rows": null,
            "height": null,
            "justify_content": null,
            "justify_items": null,
            "left": null,
            "margin": null,
            "max_height": null,
            "max_width": null,
            "min_height": null,
            "min_width": null,
            "object_fit": null,
            "object_position": null,
            "order": null,
            "overflow": null,
            "overflow_x": null,
            "overflow_y": null,
            "padding": null,
            "right": null,
            "top": null,
            "visibility": null,
            "width": null
          }
        },
        "66103ed1a917491990d1baa17e0c7459": {
          "model_module": "@jupyter-widgets/controls",
          "model_name": "DescriptionStyleModel",
          "model_module_version": "1.5.0",
          "state": {
            "_model_module": "@jupyter-widgets/controls",
            "_model_module_version": "1.5.0",
            "_model_name": "DescriptionStyleModel",
            "_view_count": null,
            "_view_module": "@jupyter-widgets/base",
            "_view_module_version": "1.2.0",
            "_view_name": "StyleView",
            "description_width": ""
          }
        },
        "bb37d04ed6564e25b710e8ea1fb902d7": {
          "model_module": "@jupyter-widgets/base",
          "model_name": "LayoutModel",
          "model_module_version": "1.2.0",
          "state": {
            "_model_module": "@jupyter-widgets/base",
            "_model_module_version": "1.2.0",
            "_model_name": "LayoutModel",
            "_view_count": null,
            "_view_module": "@jupyter-widgets/base",
            "_view_module_version": "1.2.0",
            "_view_name": "LayoutView",
            "align_content": null,
            "align_items": null,
            "align_self": null,
            "border": null,
            "bottom": null,
            "display": null,
            "flex": null,
            "flex_flow": null,
            "grid_area": null,
            "grid_auto_columns": null,
            "grid_auto_flow": null,
            "grid_auto_rows": null,
            "grid_column": null,
            "grid_gap": null,
            "grid_row": null,
            "grid_template_areas": null,
            "grid_template_columns": null,
            "grid_template_rows": null,
            "height": null,
            "justify_content": null,
            "justify_items": null,
            "left": null,
            "margin": null,
            "max_height": null,
            "max_width": null,
            "min_height": null,
            "min_width": null,
            "object_fit": null,
            "object_position": null,
            "order": null,
            "overflow": null,
            "overflow_x": null,
            "overflow_y": null,
            "padding": null,
            "right": null,
            "top": null,
            "visibility": null,
            "width": null
          }
        },
        "9230454e4d684d5cac25a75f9d548b2c": {
          "model_module": "@jupyter-widgets/controls",
          "model_name": "ProgressStyleModel",
          "model_module_version": "1.5.0",
          "state": {
            "_model_module": "@jupyter-widgets/controls",
            "_model_module_version": "1.5.0",
            "_model_name": "ProgressStyleModel",
            "_view_count": null,
            "_view_module": "@jupyter-widgets/base",
            "_view_module_version": "1.2.0",
            "_view_name": "StyleView",
            "bar_color": null,
            "description_width": ""
          }
        },
        "c5749151321a4649b7ba33cd552b26a5": {
          "model_module": "@jupyter-widgets/base",
          "model_name": "LayoutModel",
          "model_module_version": "1.2.0",
          "state": {
            "_model_module": "@jupyter-widgets/base",
            "_model_module_version": "1.2.0",
            "_model_name": "LayoutModel",
            "_view_count": null,
            "_view_module": "@jupyter-widgets/base",
            "_view_module_version": "1.2.0",
            "_view_name": "LayoutView",
            "align_content": null,
            "align_items": null,
            "align_self": null,
            "border": null,
            "bottom": null,
            "display": null,
            "flex": null,
            "flex_flow": null,
            "grid_area": null,
            "grid_auto_columns": null,
            "grid_auto_flow": null,
            "grid_auto_rows": null,
            "grid_column": null,
            "grid_gap": null,
            "grid_row": null,
            "grid_template_areas": null,
            "grid_template_columns": null,
            "grid_template_rows": null,
            "height": null,
            "justify_content": null,
            "justify_items": null,
            "left": null,
            "margin": null,
            "max_height": null,
            "max_width": null,
            "min_height": null,
            "min_width": null,
            "object_fit": null,
            "object_position": null,
            "order": null,
            "overflow": null,
            "overflow_x": null,
            "overflow_y": null,
            "padding": null,
            "right": null,
            "top": null,
            "visibility": null,
            "width": null
          }
        },
        "024c0c1fd05c41628a5b331b8aaacdd8": {
          "model_module": "@jupyter-widgets/controls",
          "model_name": "DescriptionStyleModel",
          "model_module_version": "1.5.0",
          "state": {
            "_model_module": "@jupyter-widgets/controls",
            "_model_module_version": "1.5.0",
            "_model_name": "DescriptionStyleModel",
            "_view_count": null,
            "_view_module": "@jupyter-widgets/base",
            "_view_module_version": "1.2.0",
            "_view_name": "StyleView",
            "description_width": ""
          }
        },
        "399f0c98ac38462d8f446626addbe888": {
          "model_module": "@jupyter-widgets/controls",
          "model_name": "HBoxModel",
          "model_module_version": "1.5.0",
          "state": {
            "_dom_classes": [],
            "_model_module": "@jupyter-widgets/controls",
            "_model_module_version": "1.5.0",
            "_model_name": "HBoxModel",
            "_view_count": null,
            "_view_module": "@jupyter-widgets/controls",
            "_view_module_version": "1.5.0",
            "_view_name": "HBoxView",
            "box_style": "",
            "children": [
              "IPY_MODEL_8ac76087c49f44079003c0c4415300e9",
              "IPY_MODEL_2386b89d261f4b468b5c45ece24a6727",
              "IPY_MODEL_26c0384f57c94b32975f4a0ad9c1510b"
            ],
            "layout": "IPY_MODEL_47786b1c0f0a46e4a1274406b5a9985f"
          }
        },
        "8ac76087c49f44079003c0c4415300e9": {
          "model_module": "@jupyter-widgets/controls",
          "model_name": "HTMLModel",
          "model_module_version": "1.5.0",
          "state": {
            "_dom_classes": [],
            "_model_module": "@jupyter-widgets/controls",
            "_model_module_version": "1.5.0",
            "_model_name": "HTMLModel",
            "_view_count": null,
            "_view_module": "@jupyter-widgets/controls",
            "_view_module_version": "1.5.0",
            "_view_name": "HTMLView",
            "description": "",
            "description_tooltip": null,
            "layout": "IPY_MODEL_86482cb614e340d48b9b4829aede370c",
            "placeholder": "​",
            "style": "IPY_MODEL_e3d0e9b20d5d4ab4a62dd7309d5d5314",
            "value": "Generating train split: "
          }
        },
        "2386b89d261f4b468b5c45ece24a6727": {
          "model_module": "@jupyter-widgets/controls",
          "model_name": "FloatProgressModel",
          "model_module_version": "1.5.0",
          "state": {
            "_dom_classes": [],
            "_model_module": "@jupyter-widgets/controls",
            "_model_module_version": "1.5.0",
            "_model_name": "FloatProgressModel",
            "_view_count": null,
            "_view_module": "@jupyter-widgets/controls",
            "_view_module_version": "1.5.0",
            "_view_name": "ProgressView",
            "bar_style": "success",
            "description": "",
            "description_tooltip": null,
            "layout": "IPY_MODEL_d3795d9111bd4ae8978cdbe3c227728f",
            "max": 1,
            "min": 0,
            "orientation": "horizontal",
            "style": "IPY_MODEL_0212bf886f3545d7a8fdf511484f5a09",
            "value": 1
          }
        },
        "26c0384f57c94b32975f4a0ad9c1510b": {
          "model_module": "@jupyter-widgets/controls",
          "model_name": "HTMLModel",
          "model_module_version": "1.5.0",
          "state": {
            "_dom_classes": [],
            "_model_module": "@jupyter-widgets/controls",
            "_model_module_version": "1.5.0",
            "_model_name": "HTMLModel",
            "_view_count": null,
            "_view_module": "@jupyter-widgets/controls",
            "_view_module_version": "1.5.0",
            "_view_name": "HTMLView",
            "description": "",
            "description_tooltip": null,
            "layout": "IPY_MODEL_82310d0fef0d4edca954ed55f279b16e",
            "placeholder": "​",
            "style": "IPY_MODEL_00a2b9cbc33b47cca4ee0f76ac9caef0",
            "value": " 999/0 [00:00&lt;00:00, 2004.24 examples/s]"
          }
        },
        "47786b1c0f0a46e4a1274406b5a9985f": {
          "model_module": "@jupyter-widgets/base",
          "model_name": "LayoutModel",
          "model_module_version": "1.2.0",
          "state": {
            "_model_module": "@jupyter-widgets/base",
            "_model_module_version": "1.2.0",
            "_model_name": "LayoutModel",
            "_view_count": null,
            "_view_module": "@jupyter-widgets/base",
            "_view_module_version": "1.2.0",
            "_view_name": "LayoutView",
            "align_content": null,
            "align_items": null,
            "align_self": null,
            "border": null,
            "bottom": null,
            "display": null,
            "flex": null,
            "flex_flow": null,
            "grid_area": null,
            "grid_auto_columns": null,
            "grid_auto_flow": null,
            "grid_auto_rows": null,
            "grid_column": null,
            "grid_gap": null,
            "grid_row": null,
            "grid_template_areas": null,
            "grid_template_columns": null,
            "grid_template_rows": null,
            "height": null,
            "justify_content": null,
            "justify_items": null,
            "left": null,
            "margin": null,
            "max_height": null,
            "max_width": null,
            "min_height": null,
            "min_width": null,
            "object_fit": null,
            "object_position": null,
            "order": null,
            "overflow": null,
            "overflow_x": null,
            "overflow_y": null,
            "padding": null,
            "right": null,
            "top": null,
            "visibility": null,
            "width": null
          }
        },
        "86482cb614e340d48b9b4829aede370c": {
          "model_module": "@jupyter-widgets/base",
          "model_name": "LayoutModel",
          "model_module_version": "1.2.0",
          "state": {
            "_model_module": "@jupyter-widgets/base",
            "_model_module_version": "1.2.0",
            "_model_name": "LayoutModel",
            "_view_count": null,
            "_view_module": "@jupyter-widgets/base",
            "_view_module_version": "1.2.0",
            "_view_name": "LayoutView",
            "align_content": null,
            "align_items": null,
            "align_self": null,
            "border": null,
            "bottom": null,
            "display": null,
            "flex": null,
            "flex_flow": null,
            "grid_area": null,
            "grid_auto_columns": null,
            "grid_auto_flow": null,
            "grid_auto_rows": null,
            "grid_column": null,
            "grid_gap": null,
            "grid_row": null,
            "grid_template_areas": null,
            "grid_template_columns": null,
            "grid_template_rows": null,
            "height": null,
            "justify_content": null,
            "justify_items": null,
            "left": null,
            "margin": null,
            "max_height": null,
            "max_width": null,
            "min_height": null,
            "min_width": null,
            "object_fit": null,
            "object_position": null,
            "order": null,
            "overflow": null,
            "overflow_x": null,
            "overflow_y": null,
            "padding": null,
            "right": null,
            "top": null,
            "visibility": null,
            "width": null
          }
        },
        "e3d0e9b20d5d4ab4a62dd7309d5d5314": {
          "model_module": "@jupyter-widgets/controls",
          "model_name": "DescriptionStyleModel",
          "model_module_version": "1.5.0",
          "state": {
            "_model_module": "@jupyter-widgets/controls",
            "_model_module_version": "1.5.0",
            "_model_name": "DescriptionStyleModel",
            "_view_count": null,
            "_view_module": "@jupyter-widgets/base",
            "_view_module_version": "1.2.0",
            "_view_name": "StyleView",
            "description_width": ""
          }
        },
        "d3795d9111bd4ae8978cdbe3c227728f": {
          "model_module": "@jupyter-widgets/base",
          "model_name": "LayoutModel",
          "model_module_version": "1.2.0",
          "state": {
            "_model_module": "@jupyter-widgets/base",
            "_model_module_version": "1.2.0",
            "_model_name": "LayoutModel",
            "_view_count": null,
            "_view_module": "@jupyter-widgets/base",
            "_view_module_version": "1.2.0",
            "_view_name": "LayoutView",
            "align_content": null,
            "align_items": null,
            "align_self": null,
            "border": null,
            "bottom": null,
            "display": null,
            "flex": null,
            "flex_flow": null,
            "grid_area": null,
            "grid_auto_columns": null,
            "grid_auto_flow": null,
            "grid_auto_rows": null,
            "grid_column": null,
            "grid_gap": null,
            "grid_row": null,
            "grid_template_areas": null,
            "grid_template_columns": null,
            "grid_template_rows": null,
            "height": null,
            "justify_content": null,
            "justify_items": null,
            "left": null,
            "margin": null,
            "max_height": null,
            "max_width": null,
            "min_height": null,
            "min_width": null,
            "object_fit": null,
            "object_position": null,
            "order": null,
            "overflow": null,
            "overflow_x": null,
            "overflow_y": null,
            "padding": null,
            "right": null,
            "top": null,
            "visibility": null,
            "width": "20px"
          }
        },
        "0212bf886f3545d7a8fdf511484f5a09": {
          "model_module": "@jupyter-widgets/controls",
          "model_name": "ProgressStyleModel",
          "model_module_version": "1.5.0",
          "state": {
            "_model_module": "@jupyter-widgets/controls",
            "_model_module_version": "1.5.0",
            "_model_name": "ProgressStyleModel",
            "_view_count": null,
            "_view_module": "@jupyter-widgets/base",
            "_view_module_version": "1.2.0",
            "_view_name": "StyleView",
            "bar_color": null,
            "description_width": ""
          }
        },
        "82310d0fef0d4edca954ed55f279b16e": {
          "model_module": "@jupyter-widgets/base",
          "model_name": "LayoutModel",
          "model_module_version": "1.2.0",
          "state": {
            "_model_module": "@jupyter-widgets/base",
            "_model_module_version": "1.2.0",
            "_model_name": "LayoutModel",
            "_view_count": null,
            "_view_module": "@jupyter-widgets/base",
            "_view_module_version": "1.2.0",
            "_view_name": "LayoutView",
            "align_content": null,
            "align_items": null,
            "align_self": null,
            "border": null,
            "bottom": null,
            "display": null,
            "flex": null,
            "flex_flow": null,
            "grid_area": null,
            "grid_auto_columns": null,
            "grid_auto_flow": null,
            "grid_auto_rows": null,
            "grid_column": null,
            "grid_gap": null,
            "grid_row": null,
            "grid_template_areas": null,
            "grid_template_columns": null,
            "grid_template_rows": null,
            "height": null,
            "justify_content": null,
            "justify_items": null,
            "left": null,
            "margin": null,
            "max_height": null,
            "max_width": null,
            "min_height": null,
            "min_width": null,
            "object_fit": null,
            "object_position": null,
            "order": null,
            "overflow": null,
            "overflow_x": null,
            "overflow_y": null,
            "padding": null,
            "right": null,
            "top": null,
            "visibility": null,
            "width": null
          }
        },
        "00a2b9cbc33b47cca4ee0f76ac9caef0": {
          "model_module": "@jupyter-widgets/controls",
          "model_name": "DescriptionStyleModel",
          "model_module_version": "1.5.0",
          "state": {
            "_model_module": "@jupyter-widgets/controls",
            "_model_module_version": "1.5.0",
            "_model_name": "DescriptionStyleModel",
            "_view_count": null,
            "_view_module": "@jupyter-widgets/base",
            "_view_module_version": "1.2.0",
            "_view_name": "StyleView",
            "description_width": ""
          }
        }
      }
    }
  },
  "cells": [
    {
      "cell_type": "markdown",
      "source": [
        "## LSTM and CNN to predict genre using MFCC features"
      ],
      "metadata": {
        "id": "9qZEpbva84me"
      }
    },
    {
      "cell_type": "markdown",
      "source": [
        "Using https://www.kaggle.com/datasets/andradaolteanu/gtzan-dataset-music-genre-classification dataset\n"
      ],
      "metadata": {
        "id": "Uyzont2x9Pje"
      }
    },
    {
      "cell_type": "code",
      "source": [
        "import pyarrow.parquet as pq\n",
        "import numpy as np\n",
        "import pandas as pd\n",
        "import sklearn\n",
        "from sklearn.model_selection import train_test_split\n",
        "from sklearn.metrics import confusion_matrix, classification_report\n",
        "import seaborn as sns\n",
        "import matplotlib.pyplot as plt\n",
        "import librosa\n",
        "import librosa.display\n",
        "\n",
        "\n",
        "#from IPython.display import Audio\n",
        "\n",
        "!pip install datasets\n",
        "from datasets import load_dataset, Audio, DatasetDict\n",
        "\n",
        "#!pip install git+https://github.com/huggingface/transformers\n",
        "!pip install -U accelerate\n",
        "!pip install -U transformers\n",
        "!pip install evaluate"
      ],
      "metadata": {
        "id": "iuDQnPgb9BpS"
      },
      "execution_count": null,
      "outputs": []
    },
    {
      "cell_type": "code",
      "source": [
        "# Connect to Google Drive\n",
        "from google.colab import drive\n",
        "drive.mount('/content/drive')\n",
        "\n",
        "import os\n",
        "os.chdir('/content/drive/MyDrive/erdos24')"
      ],
      "metadata": {
        "colab": {
          "base_uri": "https://localhost:8080/"
        },
        "id": "Q1wAQCE9k5Rz",
        "outputId": "f410d3dc-94d6-494b-d201-1e0cdddc8d77"
      },
      "execution_count": 2,
      "outputs": [
        {
          "output_type": "stream",
          "name": "stdout",
          "text": [
            "Mounted at /content/drive\n"
          ]
        }
      ]
    },
    {
      "cell_type": "code",
      "source": [
        "import logging\n",
        "\n",
        "gtzan = load_dataset(\"marsyas/gtzan\", split='train')\n",
        "\n",
        "gtzan"
      ],
      "metadata": {
        "colab": {
          "base_uri": "https://localhost:8080/",
          "height": 408,
          "referenced_widgets": [
            "a59f896231844a9fa58492e20a4236cc",
            "0ad7116137994043adea524df657eb0f",
            "db97f93728d0402790e84a8fb18cd7a7",
            "06fd54b07beb4ff99eeb4e733893e8cc",
            "05da34f1bc824239a2002bf0d2113cde",
            "a848736dde054be99671e0199d966333",
            "bef8a48be2b8468aa31a950cefbf5215",
            "db4c238a5e36439caacedf989dbed2e7",
            "4125e7f81fbd4b92a9806c3f1b152de2",
            "373008fbb1d245abb9f4b215dd0ccbd6",
            "91a13093202e44bb9c74d5c565d22023",
            "735e2738e97b4e4ab3894815fc9ede4d",
            "c0de5ebce9d04de789fa3082079e9fa9",
            "fb8c7d5e4f434bc89c5ae37ee0f693ca",
            "68867507a5e8408c92d5822f826c1c4e",
            "15929716efe747e3ad3aca9058845c4c",
            "d29ed23c47144217bf4f8f618ccf09b1",
            "22b9762f94254ddf93ce090dc20fa6db",
            "3e5e399349e647309c7e9608a994e472",
            "05c1a3dad7084af3b66ffec89c46178b",
            "1b9ccae0d45440d8b53b01e74661cc80",
            "b50007c7ada24fbfab9dfc04fa2e2038",
            "659e319d31c446368fcfd091c8396fbb",
            "c9a42672ea0c41d5ab6d18de2e55db23",
            "0658c2bf668a44b3aed8a15ef4f97245",
            "59643c29646141e4a80c4a64cfc16d76",
            "bdf9a575399a481b953fb892dca4c274",
            "f992febc0d2145dcb7f941106b13eca5",
            "66103ed1a917491990d1baa17e0c7459",
            "bb37d04ed6564e25b710e8ea1fb902d7",
            "9230454e4d684d5cac25a75f9d548b2c",
            "c5749151321a4649b7ba33cd552b26a5",
            "024c0c1fd05c41628a5b331b8aaacdd8",
            "399f0c98ac38462d8f446626addbe888",
            "8ac76087c49f44079003c0c4415300e9",
            "2386b89d261f4b468b5c45ece24a6727",
            "26c0384f57c94b32975f4a0ad9c1510b",
            "47786b1c0f0a46e4a1274406b5a9985f",
            "86482cb614e340d48b9b4829aede370c",
            "e3d0e9b20d5d4ab4a62dd7309d5d5314",
            "d3795d9111bd4ae8978cdbe3c227728f",
            "0212bf886f3545d7a8fdf511484f5a09",
            "82310d0fef0d4edca954ed55f279b16e",
            "00a2b9cbc33b47cca4ee0f76ac9caef0"
          ]
        },
        "id": "9KXNiZxfk5Ow",
        "outputId": "3d554d3a-6f2d-4dbf-d39f-4e5cb801c19e"
      },
      "execution_count": 3,
      "outputs": [
        {
          "output_type": "stream",
          "name": "stderr",
          "text": [
            "/usr/local/lib/python3.10/dist-packages/huggingface_hub/utils/_token.py:89: UserWarning: \n",
            "The secret `HF_TOKEN` does not exist in your Colab secrets.\n",
            "To authenticate with the Hugging Face Hub, create a token in your settings tab (https://huggingface.co/settings/tokens), set it as secret in your Google Colab and restart your session.\n",
            "You will be able to reuse this secret in all of your notebooks.\n",
            "Please note that authentication is recommended but still optional to access public models or datasets.\n",
            "  warnings.warn(\n",
            "/usr/local/lib/python3.10/dist-packages/datasets/load.py:1486: FutureWarning: The repository for marsyas/gtzan contains custom code which must be executed to correctly load the dataset. You can inspect the repository content at https://hf.co/datasets/marsyas/gtzan\n",
            "You can avoid this message in future by passing the argument `trust_remote_code=True`.\n",
            "Passing `trust_remote_code=True` will be mandatory to load this dataset from the next major release of `datasets`.\n",
            "  warnings.warn(\n"
          ]
        },
        {
          "output_type": "display_data",
          "data": {
            "text/plain": [
              "Downloading builder script:   0%|          | 0.00/3.35k [00:00<?, ?B/s]"
            ],
            "application/vnd.jupyter.widget-view+json": {
              "version_major": 2,
              "version_minor": 0,
              "model_id": "a59f896231844a9fa58492e20a4236cc"
            }
          },
          "metadata": {}
        },
        {
          "output_type": "display_data",
          "data": {
            "text/plain": [
              "Downloading readme:   0%|          | 0.00/4.42k [00:00<?, ?B/s]"
            ],
            "application/vnd.jupyter.widget-view+json": {
              "version_major": 2,
              "version_minor": 0,
              "model_id": "735e2738e97b4e4ab3894815fc9ede4d"
            }
          },
          "metadata": {}
        },
        {
          "output_type": "display_data",
          "data": {
            "text/plain": [
              "Downloading data:   0%|          | 0.00/1.23G [00:00<?, ?B/s]"
            ],
            "application/vnd.jupyter.widget-view+json": {
              "version_major": 2,
              "version_minor": 0,
              "model_id": "659e319d31c446368fcfd091c8396fbb"
            }
          },
          "metadata": {}
        },
        {
          "output_type": "display_data",
          "data": {
            "text/plain": [
              "Generating train split: 0 examples [00:00, ? examples/s]"
            ],
            "application/vnd.jupyter.widget-view+json": {
              "version_major": 2,
              "version_minor": 0,
              "model_id": "399f0c98ac38462d8f446626addbe888"
            }
          },
          "metadata": {}
        },
        {
          "output_type": "execute_result",
          "data": {
            "text/plain": [
              "Dataset({\n",
              "    features: ['file', 'audio', 'genre'],\n",
              "    num_rows: 999\n",
              "})"
            ]
          },
          "metadata": {},
          "execution_count": 3
        }
      ]
    },
    {
      "cell_type": "code",
      "source": [
        "def extract_mfcc(audio_array, sampling_rate, n_mfcc=13, n_fft=2048, hop_length=512, num_segments=1):\n",
        "    # calculate segment length in samples\n",
        "    segment_length = int(len(audio_array) / num_segments)\n",
        "\n",
        "    mfcc_segments = []\n",
        "\n",
        "    for i in range(num_segments):\n",
        "        # calculate start and end indices for the current segment\n",
        "        start = i * segment_length\n",
        "        end = start + segment_length\n",
        "\n",
        "        # extract the segment and compute its MFCCs\n",
        "        audio_segment = audio_array[start:end]\n",
        "        mfcc = librosa.feature.mfcc(y=audio_segment, sr=sampling_rate, n_mfcc=n_mfcc, n_fft=n_fft, hop_length=hop_length)\n",
        "        mfcc_segments.append(mfcc.T)  # transpose to have time dimension first\n",
        "\n",
        "    return mfcc_segments\n",
        "\n",
        "    # n_mfcc = specifies number of mel-frequency cepstral coefficients to extract from each audio signal. Ranges typically from 12-40.\n",
        "    # n_fft = number of points in the fast fourier transform to calculate the spectogram of the audio signal. Larger value results in higher frequency resolution but lower time resolution. Typical values are powers of 2: 512,1024,2048\n",
        "    # hop_length = number of audio samples between successive frames in spectrogram or MFCC calculation. Larger value results in lower time resolution and less overlap. Typical values are fraction of nftt/2 or nftt/4\n",
        "    # num_segments = used for dividing audio signal into smaller segments. E.g. 30 second audio clip, 3 second segments -> num_segments =10"
      ],
      "metadata": {
        "id": "jy57BRFTpHii"
      },
      "execution_count": 4,
      "outputs": []
    },
    {
      "cell_type": "code",
      "source": [
        "mfcc_features = []\n",
        "\n",
        "for song in gtzan['audio']:\n",
        "    audio_array = song['array']\n",
        "    sampling_rate = song['sampling_rate']\n",
        "    mfcc_segments = extract_mfcc(audio_array, sampling_rate, n_mfcc=40, n_fft=2048, hop_length=512, num_segments=10)\n",
        "    mfcc_features.append(mfcc_segments)"
      ],
      "metadata": {
        "id": "Z93u_5jfpHf1"
      },
      "execution_count": 5,
      "outputs": []
    },
    {
      "cell_type": "code",
      "source": [
        "# convert mfcc_features to a numpy array\n",
        "X = np.array(mfcc_features)"
      ],
      "metadata": {
        "colab": {
          "base_uri": "https://localhost:8080/",
          "height": 159
        },
        "id": "D7ULEFCzNElJ",
        "outputId": "282e439f-e39e-413f-fa8a-b014e7e42975"
      },
      "execution_count": 6,
      "outputs": [
        {
          "output_type": "error",
          "ename": "ValueError",
          "evalue": "setting an array element with a sequence. The requested array has an inhomogeneous shape after 2 dimensions. The detected shape was (999, 10) + inhomogeneous part.",
          "traceback": [
            "\u001b[0;31m---------------------------------------------------------------------------\u001b[0m",
            "\u001b[0;31mValueError\u001b[0m                                Traceback (most recent call last)",
            "\u001b[0;32m<ipython-input-6-24c838a764e0>\u001b[0m in \u001b[0;36m<cell line: 2>\u001b[0;34m()\u001b[0m\n\u001b[1;32m      1\u001b[0m \u001b[0;31m# convert mfcc_features to a numpy array\u001b[0m\u001b[0;34m\u001b[0m\u001b[0;34m\u001b[0m\u001b[0m\n\u001b[0;32m----> 2\u001b[0;31m \u001b[0mX\u001b[0m \u001b[0;34m=\u001b[0m \u001b[0mnp\u001b[0m\u001b[0;34m.\u001b[0m\u001b[0marray\u001b[0m\u001b[0;34m(\u001b[0m\u001b[0mmfcc_features\u001b[0m\u001b[0;34m)\u001b[0m\u001b[0;34m\u001b[0m\u001b[0;34m\u001b[0m\u001b[0m\n\u001b[0m",
            "\u001b[0;31mValueError\u001b[0m: setting an array element with a sequence. The requested array has an inhomogeneous shape after 2 dimensions. The detected shape was (999, 10) + inhomogeneous part."
          ]
        }
      ]
    },
    {
      "cell_type": "code",
      "source": [
        "# find maximum length of the MFCC feature arrays\n",
        "max_length = max(max(len(mfcc) for mfcc in song) for song in mfcc_features)\n",
        "\n",
        "# Add padding to the MFCC feature arrays with zeros\n",
        "padded_mfcc_features = []\n",
        "for song in mfcc_features:\n",
        "    padded_song = []\n",
        "    for mfcc in song:\n",
        "        padding = np.zeros((max_length - len(mfcc), mfcc.shape[1]))\n",
        "        padded_mfcc = np.vstack([mfcc, padding])\n",
        "        padded_song.append(padded_mfcc)\n",
        "    padded_mfcc_features.append(padded_song)\n",
        "\n",
        "# convert padded list into NumPy array\n",
        "X = np.array(padded_mfcc_features)\n",
        "\n",
        "# convert label to numpy array\n",
        "y = np.array(gtzan['genre'])\n",
        "\n",
        "# split the data\n",
        "X_train, X_temp, y_train, y_temp = train_test_split(X, y, test_size=0.3, random_state=42, shuffle=True, stratify=y)\n",
        "X_eval, X_test, y_eval, y_test = train_test_split(X_temp, y_temp, test_size=0.5, random_state=42, stratify=y_temp)\n",
        "\n",
        "print(\"Training set size:\", X_train.shape, y_train.shape)\n",
        "print(\"Evaluation set size:\", X_eval.shape, y_eval.shape)\n",
        "print(\"Test set size:\", X_test.shape, y_test.shape)"
      ],
      "metadata": {
        "colab": {
          "base_uri": "https://localhost:8080/"
        },
        "id": "bhTAtgqFpHZ8",
        "outputId": "8111d70e-892e-427b-d443-9838bad28185"
      },
      "execution_count": 7,
      "outputs": [
        {
          "output_type": "stream",
          "name": "stdout",
          "text": [
            "Training set size: (699, 10, 132, 40) (699,)\n",
            "Evaluation set size: (150, 10, 132, 40) (150,)\n",
            "Test set size: (150, 10, 132, 40) (150,)\n"
          ]
        }
      ]
    },
    {
      "cell_type": "code",
      "source": [
        "input_shape = (X_train.shape[1], X_train.shape[2], X_train.shape[3]) # input shape: segments each audio is divided into, # of time steps in each segment, # of MFCC at each time step\n",
        "input_shape"
      ],
      "metadata": {
        "colab": {
          "base_uri": "https://localhost:8080/"
        },
        "id": "D8C1E6UJrYh-",
        "outputId": "b7da67c7-c096-49fc-964a-afcee2861c8a"
      },
      "execution_count": 8,
      "outputs": [
        {
          "output_type": "execute_result",
          "data": {
            "text/plain": [
              "(10, 132, 40)"
            ]
          },
          "metadata": {},
          "execution_count": 8
        }
      ]
    },
    {
      "cell_type": "markdown",
      "source": [
        "### LSTM"
      ],
      "metadata": {
        "id": "5cK4yhxxEDkX"
      }
    },
    {
      "cell_type": "code",
      "source": [
        "import tensorflow as tf\n",
        "import numpy as np\n",
        "import random\n",
        "\n",
        "np.random.seed(42)\n",
        "random.seed(42)\n",
        "tf.random.set_seed(42)"
      ],
      "metadata": {
        "id": "5kEsSfEeYpFH"
      },
      "execution_count": 9,
      "outputs": []
    },
    {
      "cell_type": "code",
      "source": [
        "import tensorflow as tf\n",
        "from tensorflow.keras.layers import LSTM, Dense, Dropout, BatchNormalization\n",
        "from tensorflow.keras.regularizers import l2\n",
        "\n",
        "tf.keras.backend.clear_session()\n",
        "\n",
        "model = tf.keras.Sequential([\n",
        "    tf.keras.layers.Reshape((X_train.shape[1] * X_train.shape[2], X_train.shape[3]), input_shape=input_shape),\n",
        "\n",
        "    LSTM(132, return_sequences=True, kernel_regularizer=l2(0.001)),\n",
        "    Dropout(0.3),\n",
        "    BatchNormalization(),\n",
        "\n",
        "    LSTM(64, kernel_regularizer=l2(0.001)),\n",
        "    Dropout(0.3),\n",
        "    BatchNormalization(),\n",
        "\n",
        "    Dense(64, activation='relu', kernel_regularizer=l2(0.001)),\n",
        "    Dropout(0.3),\n",
        "\n",
        "    Dense(10, activation='softmax')\n",
        "])"
      ],
      "metadata": {
        "id": "8tKk1PwYrYev"
      },
      "execution_count": 10,
      "outputs": []
    },
    {
      "cell_type": "code",
      "source": [
        "optimization = tf.keras.optimizers.Adam(learning_rate=0.001)\n",
        "model.compile(optimizer=optimization,\n",
        "              loss='sparse_categorical_crossentropy',\n",
        "              metrics=['accuracy'])\n",
        "\n",
        "# add early stopping\n",
        "early_stopping = tf.keras.callbacks.EarlyStopping(\n",
        "    monitor='val_loss', patience=2, restore_best_weights=True)\n",
        "\n",
        "model.summary()"
      ],
      "metadata": {
        "colab": {
          "base_uri": "https://localhost:8080/"
        },
        "id": "GyYBlPv0t32Q",
        "outputId": "b07ce59b-d6e8-4a0c-c81e-1c8d57b80f65"
      },
      "execution_count": 11,
      "outputs": [
        {
          "output_type": "stream",
          "name": "stdout",
          "text": [
            "Model: \"sequential\"\n",
            "_________________________________________________________________\n",
            " Layer (type)                Output Shape              Param #   \n",
            "=================================================================\n",
            " reshape (Reshape)           (None, 1320, 40)          0         \n",
            "                                                                 \n",
            " lstm (LSTM)                 (None, 1320, 132)         91344     \n",
            "                                                                 \n",
            " dropout (Dropout)           (None, 1320, 132)         0         \n",
            "                                                                 \n",
            " batch_normalization (Batch  (None, 1320, 132)         528       \n",
            " Normalization)                                                  \n",
            "                                                                 \n",
            " lstm_1 (LSTM)               (None, 64)                50432     \n",
            "                                                                 \n",
            " dropout_1 (Dropout)         (None, 64)                0         \n",
            "                                                                 \n",
            " batch_normalization_1 (Bat  (None, 64)                256       \n",
            " chNormalization)                                                \n",
            "                                                                 \n",
            " dense (Dense)               (None, 64)                4160      \n",
            "                                                                 \n",
            " dropout_2 (Dropout)         (None, 64)                0         \n",
            "                                                                 \n",
            " dense_1 (Dense)             (None, 10)                650       \n",
            "                                                                 \n",
            "=================================================================\n",
            "Total params: 147370 (575.66 KB)\n",
            "Trainable params: 146978 (574.13 KB)\n",
            "Non-trainable params: 392 (1.53 KB)\n",
            "_________________________________________________________________\n"
          ]
        }
      ]
    },
    {
      "cell_type": "code",
      "source": [
        "# train model\n",
        "model.fit(\n",
        "    X_train, y_train, epochs=100, batch_size=32,\n",
        "    validation_data=(X_eval, y_eval), callbacks=[early_stopping], verbose=2\n",
        ")"
      ],
      "metadata": {
        "colab": {
          "base_uri": "https://localhost:8080/"
        },
        "id": "wy6sf3bIxUdM",
        "outputId": "bd5b0ae6-64cf-461d-b278-b46c485c3784"
      },
      "execution_count": 12,
      "outputs": [
        {
          "output_type": "stream",
          "name": "stdout",
          "text": [
            "Epoch 1/100\n",
            "22/22 - 9s - loss: 2.8609 - accuracy: 0.1545 - val_loss: 2.4933 - val_accuracy: 0.2467 - 9s/epoch - 426ms/step\n",
            "Epoch 2/100\n",
            "22/22 - 2s - loss: 2.4388 - accuracy: 0.2504 - val_loss: 2.3770 - val_accuracy: 0.3400 - 2s/epoch - 95ms/step\n",
            "Epoch 3/100\n",
            "22/22 - 2s - loss: 2.2156 - accuracy: 0.3448 - val_loss: 2.2631 - val_accuracy: 0.3467 - 2s/epoch - 95ms/step\n",
            "Epoch 4/100\n",
            "22/22 - 2s - loss: 2.0983 - accuracy: 0.3662 - val_loss: 2.1718 - val_accuracy: 0.4200 - 2s/epoch - 96ms/step\n",
            "Epoch 5/100\n",
            "22/22 - 2s - loss: 1.9532 - accuracy: 0.4220 - val_loss: 2.0276 - val_accuracy: 0.4800 - 2s/epoch - 96ms/step\n",
            "Epoch 6/100\n",
            "22/22 - 2s - loss: 1.7734 - accuracy: 0.4950 - val_loss: 1.9247 - val_accuracy: 0.4933 - 2s/epoch - 96ms/step\n",
            "Epoch 7/100\n",
            "22/22 - 2s - loss: 1.6413 - accuracy: 0.5351 - val_loss: 1.8781 - val_accuracy: 0.4200 - 2s/epoch - 95ms/step\n",
            "Epoch 8/100\n",
            "22/22 - 2s - loss: 1.5391 - accuracy: 0.5908 - val_loss: 1.8040 - val_accuracy: 0.4400 - 2s/epoch - 95ms/step\n",
            "Epoch 9/100\n",
            "22/22 - 2s - loss: 1.4986 - accuracy: 0.6209 - val_loss: 1.7892 - val_accuracy: 0.4467 - 2s/epoch - 94ms/step\n",
            "Epoch 10/100\n",
            "22/22 - 2s - loss: 1.3996 - accuracy: 0.6466 - val_loss: 1.7655 - val_accuracy: 0.4667 - 2s/epoch - 96ms/step\n",
            "Epoch 11/100\n",
            "22/22 - 2s - loss: 1.2749 - accuracy: 0.6638 - val_loss: 1.7494 - val_accuracy: 0.4600 - 2s/epoch - 95ms/step\n",
            "Epoch 12/100\n",
            "22/22 - 2s - loss: 1.2041 - accuracy: 0.7053 - val_loss: 1.7563 - val_accuracy: 0.4800 - 2s/epoch - 95ms/step\n",
            "Epoch 13/100\n",
            "22/22 - 2s - loss: 1.1303 - accuracy: 0.7325 - val_loss: 1.7575 - val_accuracy: 0.4933 - 2s/epoch - 96ms/step\n"
          ]
        },
        {
          "output_type": "execute_result",
          "data": {
            "text/plain": [
              "<keras.src.callbacks.History at 0x7d997c664e50>"
            ]
          },
          "metadata": {},
          "execution_count": 12
        }
      ]
    },
    {
      "cell_type": "code",
      "source": [
        "y_pred = model.predict(X_test)\n",
        "y_pred = np.argmax(y_pred, axis=1)\n",
        "\n",
        "np.sum(y_pred == y_test) / len(y_test)"
      ],
      "metadata": {
        "colab": {
          "base_uri": "https://localhost:8080/"
        },
        "id": "B8-7eWj6t3w0",
        "outputId": "0d1d3187-a4fe-4572-fde8-fb91363ff515"
      },
      "execution_count": 13,
      "outputs": [
        {
          "output_type": "stream",
          "name": "stdout",
          "text": [
            "5/5 [==============================] - 1s 49ms/step\n"
          ]
        },
        {
          "output_type": "execute_result",
          "data": {
            "text/plain": [
              "0.5133333333333333"
            ]
          },
          "metadata": {},
          "execution_count": 13
        }
      ]
    },
    {
      "cell_type": "code",
      "source": [
        "# Test set evaluation\n",
        "from sklearn.metrics import confusion_matrix, accuracy_score, f1_score\n",
        "\n",
        "# calculate the confusion matrix, accuracy, f1\n",
        "conf_matrix = confusion_matrix(y_test, y_pred)\n",
        "accuracy = accuracy_score(y_test, y_pred)\n",
        "f1 = f1_score(y_test, y_pred, average='weighted')\n",
        "\n",
        "conf_matrix, accuracy, f1"
      ],
      "metadata": {
        "colab": {
          "base_uri": "https://localhost:8080/"
        },
        "id": "-cjAwoscfl5n",
        "outputId": "9c5f6469-be7f-41e5-8c87-c533af08a88b"
      },
      "execution_count": 14,
      "outputs": [
        {
          "output_type": "execute_result",
          "data": {
            "text/plain": [
              "(array([[ 6,  0,  0,  3,  0,  0,  4,  0,  1,  1],\n",
              "        [ 0, 12,  0,  1,  0,  2,  0,  0,  0,  0],\n",
              "        [ 2,  0,  5,  1,  0,  1,  3,  1,  2,  0],\n",
              "        [ 0,  1,  0,  3,  2,  0,  1,  2,  2,  4],\n",
              "        [ 0,  0,  0,  1,  9,  0,  3,  0,  1,  1],\n",
              "        [ 1,  0,  0,  1,  0, 11,  0,  0,  1,  1],\n",
              "        [ 1,  0,  0,  0,  2,  0, 12,  0,  0,  0],\n",
              "        [ 0,  0,  0,  1,  1,  0,  0, 12,  1,  0],\n",
              "        [ 1,  0,  0,  2,  3,  0,  0,  1,  5,  3],\n",
              "        [ 1,  0,  0,  1,  0,  2,  5,  1,  3,  2]]),\n",
              " 0.5133333333333333,\n",
              " 0.5059529600859438)"
            ]
          },
          "metadata": {},
          "execution_count": 14
        }
      ]
    },
    {
      "cell_type": "markdown",
      "source": [
        "### Bidirectional LSTM\n"
      ],
      "metadata": {
        "id": "i-W8QG-YEA3h"
      }
    },
    {
      "cell_type": "code",
      "source": [
        "from tensorflow.keras.models import Sequential\n",
        "from tensorflow.keras.layers import Dense, Dropout, BatchNormalization, Reshape, Bidirectional\n",
        "\n",
        "tf.keras.backend.clear_session()\n",
        "\n",
        "model = Sequential()\n",
        "model.add(Reshape((X_train.shape[1] * X_train.shape[2], X_train.shape[3]), input_shape=input_shape))\n",
        "\n",
        "#BiLSTM\n",
        "model.add(Bidirectional(LSTM(128, return_sequences=True, kernel_regularizer=l2(0.001))))\n",
        "model.add(Dropout(0.3))\n",
        "model.add(BatchNormalization())\n",
        "\n",
        "#BiLSTM\n",
        "model.add(Bidirectional(LSTM(64, kernel_regularizer=l2(0.001))))\n",
        "model.add(Dropout(0.3))\n",
        "model.add(BatchNormalization())\n",
        "\n",
        "# dense layer w.L2 and dropout\n",
        "model.add(Dense(64, activation='relu', kernel_regularizer=l2(0.001)))\n",
        "model.add(Dropout(0.3))\n",
        "\n",
        "# softmax for multi-class classification\n",
        "model.add(Dense(10, activation='softmax'))\n",
        "\n",
        "# compile model\n",
        "optimization = tf.keras.optimizers.Adam(learning_rate=0.0001)\n",
        "model.compile(optimizer=optimization,\n",
        "              loss='sparse_categorical_crossentropy',\n",
        "              metrics=['accuracy'])\n",
        "\n",
        "# early stopping\n",
        "early_stopping = tf.keras.callbacks.EarlyStopping(\n",
        "    monitor='val_loss', patience=5, restore_best_weights=True)\n",
        "\n",
        "model.summary()\n",
        "\n",
        "# train model\n",
        "model.fit(\n",
        "    X_train, y_train, epochs=100, batch_size=32,\n",
        "    validation_data=(X_eval, y_eval), callbacks=[early_stopping], verbose=2\n",
        ")"
      ],
      "metadata": {
        "colab": {
          "base_uri": "https://localhost:8080/"
        },
        "id": "v8Es92Af9RmP",
        "outputId": "848f0963-9c4f-4fb5-de15-b4979194b8b8"
      },
      "execution_count": 15,
      "outputs": [
        {
          "output_type": "stream",
          "name": "stdout",
          "text": [
            "Model: \"sequential\"\n",
            "_________________________________________________________________\n",
            " Layer (type)                Output Shape              Param #   \n",
            "=================================================================\n",
            " reshape (Reshape)           (None, 1320, 40)          0         \n",
            "                                                                 \n",
            " bidirectional (Bidirection  (None, 1320, 256)         173056    \n",
            " al)                                                             \n",
            "                                                                 \n",
            " dropout (Dropout)           (None, 1320, 256)         0         \n",
            "                                                                 \n",
            " batch_normalization (Batch  (None, 1320, 256)         1024      \n",
            " Normalization)                                                  \n",
            "                                                                 \n",
            " bidirectional_1 (Bidirecti  (None, 128)               164352    \n",
            " onal)                                                           \n",
            "                                                                 \n",
            " dropout_1 (Dropout)         (None, 128)               0         \n",
            "                                                                 \n",
            " batch_normalization_1 (Bat  (None, 128)               512       \n",
            " chNormalization)                                                \n",
            "                                                                 \n",
            " dense (Dense)               (None, 64)                8256      \n",
            "                                                                 \n",
            " dropout_2 (Dropout)         (None, 64)                0         \n",
            "                                                                 \n",
            " dense_1 (Dense)             (None, 10)                650       \n",
            "                                                                 \n",
            "=================================================================\n",
            "Total params: 347850 (1.33 MB)\n",
            "Trainable params: 347082 (1.32 MB)\n",
            "Non-trainable params: 768 (3.00 KB)\n",
            "_________________________________________________________________\n",
            "Epoch 1/100\n",
            "22/22 - 12s - loss: 3.6950 - accuracy: 0.1044 - val_loss: 3.0868 - val_accuracy: 0.0733 - 12s/epoch - 566ms/step\n",
            "Epoch 2/100\n",
            "22/22 - 4s - loss: 3.5192 - accuracy: 0.1216 - val_loss: 3.0591 - val_accuracy: 0.1067 - 4s/epoch - 182ms/step\n",
            "Epoch 3/100\n",
            "22/22 - 4s - loss: 3.3922 - accuracy: 0.1617 - val_loss: 3.0262 - val_accuracy: 0.1733 - 4s/epoch - 184ms/step\n",
            "Epoch 4/100\n",
            "22/22 - 4s - loss: 3.2694 - accuracy: 0.1717 - val_loss: 2.9897 - val_accuracy: 0.2200 - 4s/epoch - 184ms/step\n",
            "Epoch 5/100\n",
            "22/22 - 4s - loss: 3.2586 - accuracy: 0.1874 - val_loss: 2.9467 - val_accuracy: 0.2533 - 4s/epoch - 182ms/step\n",
            "Epoch 6/100\n",
            "22/22 - 4s - loss: 3.1220 - accuracy: 0.2289 - val_loss: 2.9031 - val_accuracy: 0.2933 - 4s/epoch - 182ms/step\n",
            "Epoch 7/100\n",
            "22/22 - 4s - loss: 3.0781 - accuracy: 0.2275 - val_loss: 2.8548 - val_accuracy: 0.3133 - 4s/epoch - 180ms/step\n",
            "Epoch 8/100\n",
            "22/22 - 4s - loss: 2.9644 - accuracy: 0.2632 - val_loss: 2.8130 - val_accuracy: 0.3200 - 4s/epoch - 182ms/step\n",
            "Epoch 9/100\n",
            "22/22 - 4s - loss: 2.8310 - accuracy: 0.2890 - val_loss: 2.7736 - val_accuracy: 0.3400 - 4s/epoch - 183ms/step\n",
            "Epoch 10/100\n",
            "22/22 - 4s - loss: 2.8478 - accuracy: 0.2890 - val_loss: 2.7311 - val_accuracy: 0.3533 - 4s/epoch - 181ms/step\n",
            "Epoch 11/100\n",
            "22/22 - 4s - loss: 2.7435 - accuracy: 0.3290 - val_loss: 2.6923 - val_accuracy: 0.3600 - 4s/epoch - 182ms/step\n",
            "Epoch 12/100\n",
            "22/22 - 4s - loss: 2.6752 - accuracy: 0.3290 - val_loss: 2.6523 - val_accuracy: 0.3867 - 4s/epoch - 182ms/step\n",
            "Epoch 13/100\n",
            "22/22 - 4s - loss: 2.6027 - accuracy: 0.3648 - val_loss: 2.6097 - val_accuracy: 0.4133 - 4s/epoch - 181ms/step\n",
            "Epoch 14/100\n",
            "22/22 - 4s - loss: 2.5854 - accuracy: 0.3748 - val_loss: 2.5690 - val_accuracy: 0.4200 - 4s/epoch - 183ms/step\n",
            "Epoch 15/100\n",
            "22/22 - 4s - loss: 2.5804 - accuracy: 0.3605 - val_loss: 2.5406 - val_accuracy: 0.4267 - 4s/epoch - 182ms/step\n",
            "Epoch 16/100\n",
            "22/22 - 4s - loss: 2.4897 - accuracy: 0.3748 - val_loss: 2.5065 - val_accuracy: 0.4400 - 4s/epoch - 181ms/step\n",
            "Epoch 17/100\n",
            "22/22 - 4s - loss: 2.4360 - accuracy: 0.4235 - val_loss: 2.4856 - val_accuracy: 0.4400 - 4s/epoch - 182ms/step\n",
            "Epoch 18/100\n",
            "22/22 - 4s - loss: 2.3940 - accuracy: 0.4249 - val_loss: 2.4628 - val_accuracy: 0.4467 - 4s/epoch - 182ms/step\n",
            "Epoch 19/100\n",
            "22/22 - 4s - loss: 2.3684 - accuracy: 0.4306 - val_loss: 2.4411 - val_accuracy: 0.4467 - 4s/epoch - 182ms/step\n",
            "Epoch 20/100\n",
            "22/22 - 4s - loss: 2.3329 - accuracy: 0.4449 - val_loss: 2.4229 - val_accuracy: 0.4667 - 4s/epoch - 182ms/step\n",
            "Epoch 21/100\n",
            "22/22 - 4s - loss: 2.3190 - accuracy: 0.4406 - val_loss: 2.4058 - val_accuracy: 0.4867 - 4s/epoch - 182ms/step\n",
            "Epoch 22/100\n",
            "22/22 - 4s - loss: 2.2336 - accuracy: 0.5021 - val_loss: 2.3920 - val_accuracy: 0.4733 - 4s/epoch - 181ms/step\n",
            "Epoch 23/100\n",
            "22/22 - 4s - loss: 2.2169 - accuracy: 0.4993 - val_loss: 2.3683 - val_accuracy: 0.4867 - 4s/epoch - 183ms/step\n",
            "Epoch 24/100\n",
            "22/22 - 4s - loss: 2.1895 - accuracy: 0.4793 - val_loss: 2.3511 - val_accuracy: 0.4933 - 4s/epoch - 182ms/step\n",
            "Epoch 25/100\n",
            "22/22 - 4s - loss: 2.1975 - accuracy: 0.4950 - val_loss: 2.3360 - val_accuracy: 0.5200 - 4s/epoch - 183ms/step\n",
            "Epoch 26/100\n",
            "22/22 - 4s - loss: 2.1059 - accuracy: 0.5064 - val_loss: 2.3246 - val_accuracy: 0.5000 - 4s/epoch - 182ms/step\n",
            "Epoch 27/100\n",
            "22/22 - 4s - loss: 2.1063 - accuracy: 0.5193 - val_loss: 2.3125 - val_accuracy: 0.5133 - 4s/epoch - 182ms/step\n",
            "Epoch 28/100\n",
            "22/22 - 4s - loss: 2.0661 - accuracy: 0.5351 - val_loss: 2.2958 - val_accuracy: 0.5133 - 4s/epoch - 181ms/step\n",
            "Epoch 29/100\n",
            "22/22 - 4s - loss: 2.0099 - accuracy: 0.5594 - val_loss: 2.2915 - val_accuracy: 0.5067 - 4s/epoch - 182ms/step\n",
            "Epoch 30/100\n",
            "22/22 - 4s - loss: 2.0262 - accuracy: 0.5279 - val_loss: 2.2781 - val_accuracy: 0.5200 - 4s/epoch - 181ms/step\n",
            "Epoch 31/100\n",
            "22/22 - 4s - loss: 1.9509 - accuracy: 0.6066 - val_loss: 2.2701 - val_accuracy: 0.5267 - 4s/epoch - 182ms/step\n",
            "Epoch 32/100\n",
            "22/22 - 4s - loss: 1.9152 - accuracy: 0.5951 - val_loss: 2.2526 - val_accuracy: 0.5267 - 4s/epoch - 181ms/step\n",
            "Epoch 33/100\n",
            "22/22 - 4s - loss: 1.9374 - accuracy: 0.5808 - val_loss: 2.2477 - val_accuracy: 0.5333 - 4s/epoch - 182ms/step\n",
            "Epoch 34/100\n",
            "22/22 - 4s - loss: 1.8542 - accuracy: 0.6237 - val_loss: 2.2381 - val_accuracy: 0.5267 - 4s/epoch - 182ms/step\n",
            "Epoch 35/100\n",
            "22/22 - 4s - loss: 1.8647 - accuracy: 0.5980 - val_loss: 2.2234 - val_accuracy: 0.5400 - 4s/epoch - 182ms/step\n",
            "Epoch 36/100\n",
            "22/22 - 4s - loss: 1.8574 - accuracy: 0.6180 - val_loss: 2.2156 - val_accuracy: 0.5200 - 4s/epoch - 183ms/step\n",
            "Epoch 37/100\n",
            "22/22 - 4s - loss: 1.8065 - accuracy: 0.6280 - val_loss: 2.2026 - val_accuracy: 0.5133 - 4s/epoch - 182ms/step\n",
            "Epoch 38/100\n",
            "22/22 - 4s - loss: 1.7739 - accuracy: 0.6595 - val_loss: 2.1976 - val_accuracy: 0.5067 - 4s/epoch - 182ms/step\n",
            "Epoch 39/100\n",
            "22/22 - 4s - loss: 1.7674 - accuracy: 0.6438 - val_loss: 2.1801 - val_accuracy: 0.5067 - 4s/epoch - 183ms/step\n",
            "Epoch 40/100\n",
            "22/22 - 4s - loss: 1.7170 - accuracy: 0.6896 - val_loss: 2.1604 - val_accuracy: 0.5000 - 4s/epoch - 182ms/step\n",
            "Epoch 41/100\n",
            "22/22 - 4s - loss: 1.7157 - accuracy: 0.6767 - val_loss: 2.1602 - val_accuracy: 0.5067 - 4s/epoch - 182ms/step\n",
            "Epoch 42/100\n",
            "22/22 - 4s - loss: 1.6846 - accuracy: 0.6838 - val_loss: 2.1551 - val_accuracy: 0.5067 - 4s/epoch - 182ms/step\n",
            "Epoch 43/100\n",
            "22/22 - 4s - loss: 1.6491 - accuracy: 0.7110 - val_loss: 2.1419 - val_accuracy: 0.5067 - 4s/epoch - 182ms/step\n",
            "Epoch 44/100\n",
            "22/22 - 4s - loss: 1.6408 - accuracy: 0.7039 - val_loss: 2.1305 - val_accuracy: 0.5200 - 4s/epoch - 181ms/step\n",
            "Epoch 45/100\n",
            "22/22 - 4s - loss: 1.5899 - accuracy: 0.7468 - val_loss: 2.1259 - val_accuracy: 0.5200 - 4s/epoch - 181ms/step\n",
            "Epoch 46/100\n",
            "22/22 - 4s - loss: 1.5711 - accuracy: 0.7310 - val_loss: 2.1278 - val_accuracy: 0.5133 - 4s/epoch - 181ms/step\n",
            "Epoch 47/100\n",
            "22/22 - 4s - loss: 1.5684 - accuracy: 0.7296 - val_loss: 2.1233 - val_accuracy: 0.5200 - 4s/epoch - 183ms/step\n",
            "Epoch 48/100\n",
            "22/22 - 4s - loss: 1.5530 - accuracy: 0.7511 - val_loss: 2.1115 - val_accuracy: 0.5133 - 4s/epoch - 182ms/step\n",
            "Epoch 49/100\n",
            "22/22 - 4s - loss: 1.5069 - accuracy: 0.7554 - val_loss: 2.1023 - val_accuracy: 0.5267 - 4s/epoch - 183ms/step\n",
            "Epoch 50/100\n",
            "22/22 - 4s - loss: 1.5165 - accuracy: 0.7454 - val_loss: 2.1041 - val_accuracy: 0.5400 - 4s/epoch - 183ms/step\n",
            "Epoch 51/100\n",
            "22/22 - 4s - loss: 1.4777 - accuracy: 0.7654 - val_loss: 2.1002 - val_accuracy: 0.5333 - 4s/epoch - 182ms/step\n",
            "Epoch 52/100\n",
            "22/22 - 4s - loss: 1.4496 - accuracy: 0.7740 - val_loss: 2.0911 - val_accuracy: 0.5333 - 4s/epoch - 181ms/step\n",
            "Epoch 53/100\n",
            "22/22 - 4s - loss: 1.3890 - accuracy: 0.7969 - val_loss: 2.0899 - val_accuracy: 0.5533 - 4s/epoch - 182ms/step\n",
            "Epoch 54/100\n",
            "22/22 - 4s - loss: 1.4146 - accuracy: 0.7940 - val_loss: 2.0822 - val_accuracy: 0.5667 - 4s/epoch - 182ms/step\n",
            "Epoch 55/100\n",
            "22/22 - 4s - loss: 1.3561 - accuracy: 0.8040 - val_loss: 2.0726 - val_accuracy: 0.5667 - 4s/epoch - 182ms/step\n",
            "Epoch 56/100\n",
            "22/22 - 4s - loss: 1.3478 - accuracy: 0.8155 - val_loss: 2.0761 - val_accuracy: 0.5400 - 4s/epoch - 181ms/step\n",
            "Epoch 57/100\n",
            "22/22 - 4s - loss: 1.3822 - accuracy: 0.7954 - val_loss: 2.0813 - val_accuracy: 0.5533 - 4s/epoch - 182ms/step\n",
            "Epoch 58/100\n",
            "22/22 - 4s - loss: 1.3061 - accuracy: 0.8298 - val_loss: 2.0856 - val_accuracy: 0.5467 - 4s/epoch - 183ms/step\n",
            "Epoch 59/100\n",
            "22/22 - 4s - loss: 1.3522 - accuracy: 0.7897 - val_loss: 2.1003 - val_accuracy: 0.5533 - 4s/epoch - 182ms/step\n",
            "Epoch 60/100\n",
            "22/22 - 4s - loss: 1.2833 - accuracy: 0.8255 - val_loss: 2.0805 - val_accuracy: 0.5600 - 4s/epoch - 183ms/step\n"
          ]
        },
        {
          "output_type": "execute_result",
          "data": {
            "text/plain": [
              "<keras.src.callbacks.History at 0x7d990c564910>"
            ]
          },
          "metadata": {},
          "execution_count": 15
        }
      ]
    },
    {
      "cell_type": "code",
      "source": [
        "y_pred = model.predict(X_test)\n",
        "y_pred = np.argmax(y_pred, axis=1)\n",
        "\n",
        "# Test set evaluation\n",
        "from sklearn.metrics import confusion_matrix, accuracy_score, f1_score\n",
        "\n",
        "# calculate the confusion matrix, accuracy, f1\n",
        "conf_matrix = confusion_matrix(y_test, y_pred)\n",
        "accuracy = accuracy_score(y_test, y_pred)\n",
        "f1 = f1_score(y_test, y_pred, average='weighted')\n",
        "\n",
        "conf_matrix, accuracy, f1"
      ],
      "metadata": {
        "colab": {
          "base_uri": "https://localhost:8080/"
        },
        "id": "CaaLzohb9Tr5",
        "outputId": "3a5185ad-8279-48ed-a99f-4746f856f9a0"
      },
      "execution_count": 16,
      "outputs": [
        {
          "output_type": "stream",
          "name": "stdout",
          "text": [
            "5/5 [==============================] - 2s 92ms/step\n"
          ]
        },
        {
          "output_type": "execute_result",
          "data": {
            "text/plain": [
              "(array([[ 7,  0,  1,  2,  0,  2,  1,  0,  1,  1],\n",
              "        [ 0, 13,  0,  0,  0,  2,  0,  0,  0,  0],\n",
              "        [ 1,  0,  4,  4,  0,  1,  0,  1,  1,  3],\n",
              "        [ 0,  1,  0,  4,  2,  0,  1,  3,  2,  2],\n",
              "        [ 0,  0,  1,  0,  4,  0,  2,  2,  4,  2],\n",
              "        [ 0,  0,  3,  1,  0, 11,  0,  0,  0,  0],\n",
              "        [ 0,  0,  0,  0,  0,  0, 12,  0,  0,  3],\n",
              "        [ 0,  0,  1,  1,  1,  0,  0, 11,  1,  0],\n",
              "        [ 4,  1,  0,  1,  1,  0,  0,  0,  6,  2],\n",
              "        [ 2,  0,  1,  1,  1,  3,  1,  1,  0,  5]]),\n",
              " 0.5133333333333333,\n",
              " 0.5033068790573861)"
            ]
          },
          "metadata": {},
          "execution_count": 16
        }
      ]
    },
    {
      "cell_type": "markdown",
      "source": [
        "### CNN\n"
      ],
      "metadata": {
        "id": "AIDnY2uiGDSe"
      }
    },
    {
      "cell_type": "code",
      "source": [
        "# convert mfcc_features to a numpy array\n",
        "\n",
        "# find maximum length of the MFCC feature arrays\n",
        "max_length = max(max(len(mfcc) for mfcc in song) for song in mfcc_features)\n",
        "\n",
        "# add padding to the MFCC feature arrays with zeros\n",
        "padded_mfcc_features = []\n",
        "for song in mfcc_features:\n",
        "    padded_song = []\n",
        "    for mfcc in song:\n",
        "        padding = np.zeros((max_length - len(mfcc), mfcc.shape[1]))\n",
        "        padded_mfcc = np.vstack([mfcc, padding])\n",
        "        padded_song.append(padded_mfcc)\n",
        "    padded_mfcc_features.append(padded_song)\n",
        "\n",
        "# convert padded list into NumPy array\n",
        "X = np.array(padded_mfcc_features)\n",
        "\n",
        "# convert label to numpy array\n",
        "y = np.array(gtzan['genre'])\n",
        "\n",
        "# split data\n",
        "X_train, X_temp, y_train, y_temp = train_test_split(X, y, test_size=0.3, random_state=42, shuffle=True, stratify=y)\n",
        "X_eval, X_test, y_eval, y_test = train_test_split(X_temp, y_temp, test_size=0.5, random_state=42, stratify=y_temp)\n",
        "\n",
        "print(\"Training set size:\", X_train.shape, y_train.shape)\n",
        "print(\"Evaluation set size:\", X_eval.shape, y_eval.shape)\n",
        "print(\"Test set size:\", X_test.shape, y_test.shape)"
      ],
      "metadata": {
        "colab": {
          "base_uri": "https://localhost:8080/"
        },
        "id": "QQECy1SXGEOt",
        "outputId": "cbab4c07-9282-4204-e1bd-5b4f02bbd82a"
      },
      "execution_count": 17,
      "outputs": [
        {
          "output_type": "stream",
          "name": "stdout",
          "text": [
            "Training set size: (699, 10, 132, 40) (699,)\n",
            "Evaluation set size: (150, 10, 132, 40) (150,)\n",
            "Test set size: (150, 10, 132, 40) (150,)\n"
          ]
        }
      ]
    },
    {
      "cell_type": "code",
      "source": [
        "input_shape = (X_train.shape[1], X_train.shape[2], X_train.shape[3])\n",
        "input_shape"
      ],
      "metadata": {
        "colab": {
          "base_uri": "https://localhost:8080/"
        },
        "id": "77neG3t8HXGr",
        "outputId": "b5d7c03f-f706-4df7-f0a6-a82bd5026b94"
      },
      "execution_count": 18,
      "outputs": [
        {
          "output_type": "execute_result",
          "data": {
            "text/plain": [
              "(10, 132, 40)"
            ]
          },
          "metadata": {},
          "execution_count": 18
        }
      ]
    },
    {
      "cell_type": "code",
      "source": [
        "from tensorflow.keras.models import Sequential\n",
        "from tensorflow.keras.layers import Conv2D, MaxPooling2D, Flatten, Dense, Dropout, BatchNormalization\n",
        "from tensorflow.keras.callbacks import EarlyStopping, ReduceLROnPlateau\n",
        "from tensorflow.keras import models, layers\n",
        "\n",
        "tf.keras.backend.clear_session()\n",
        "\n",
        "cnn_model = models.Sequential([\n",
        "    # conv layer with 'same' padding to preserve dimensions\n",
        "    layers.Conv2D(32, (3, 3), activation='relu', padding='same', input_shape=input_shape),\n",
        "    layers.MaxPooling2D((2, 2), padding='same'),\n",
        "    layers.Dropout(0.3),\n",
        "\n",
        "    # conv layer, again with 'same' padding\n",
        "    layers.Conv2D(64, (3, 3), activation='relu', padding='same'),\n",
        "    layers.MaxPooling2D((2, 2), padding='same'),\n",
        "    layers.Dropout(0.3),\n",
        "\n",
        "    # global Average Pooling layer to reduce dimensions without going to zero\n",
        "    layers.GlobalAveragePooling2D(),\n",
        "\n",
        "    # dense layers for classification\n",
        "    layers.Dense(512, activation='relu'),\n",
        "    layers.Dropout(0.5),  # higher dropout for regularization\n",
        "    layers.Dense(10, activation='softmax')  # 10 classes\n",
        "])\n",
        "\n",
        "cnn_model.compile(loss='sparse_categorical_crossentropy',\n",
        "                  optimizer='adam',\n",
        "                  metrics=['accuracy'])\n",
        "\n",
        "cnn_model.summary()\n",
        "\n",
        "from tensorflow.keras.callbacks import EarlyStopping, ReduceLROnPlateau\n",
        "\n",
        "# early stopping to prevent overfitting\n",
        "early_stopping = EarlyStopping(monitor='val_loss', patience=10, verbose=1, mode='min', restore_best_weights=True)\n",
        "reduce_lr = ReduceLROnPlateau(monitor='val_loss', factor=0.2, patience=5, min_lr=0.001)\n",
        "\n",
        "# train model\n",
        "cnn_model.fit(\n",
        "    X_train, y_train, epochs=100, batch_size=32,\n",
        "    validation_data=(X_eval, y_eval),\n",
        "    callbacks=[early_stopping, reduce_lr],\n",
        "    verbose=2\n",
        ")"
      ],
      "metadata": {
        "colab": {
          "base_uri": "https://localhost:8080/"
        },
        "id": "p06DU2lrN9eg",
        "outputId": "a0c61fa7-df44-4da0-9cb4-ef6000df4faf"
      },
      "execution_count": 19,
      "outputs": [
        {
          "output_type": "stream",
          "name": "stdout",
          "text": [
            "Model: \"sequential\"\n",
            "_________________________________________________________________\n",
            " Layer (type)                Output Shape              Param #   \n",
            "=================================================================\n",
            " conv2d (Conv2D)             (None, 10, 132, 32)       11552     \n",
            "                                                                 \n",
            " max_pooling2d (MaxPooling2  (None, 5, 66, 32)         0         \n",
            " D)                                                              \n",
            "                                                                 \n",
            " dropout (Dropout)           (None, 5, 66, 32)         0         \n",
            "                                                                 \n",
            " conv2d_1 (Conv2D)           (None, 5, 66, 64)         18496     \n",
            "                                                                 \n",
            " max_pooling2d_1 (MaxPoolin  (None, 3, 33, 64)         0         \n",
            " g2D)                                                            \n",
            "                                                                 \n",
            " dropout_1 (Dropout)         (None, 3, 33, 64)         0         \n",
            "                                                                 \n",
            " global_average_pooling2d (  (None, 64)                0         \n",
            " GlobalAveragePooling2D)                                         \n",
            "                                                                 \n",
            " dense (Dense)               (None, 512)               33280     \n",
            "                                                                 \n",
            " dropout_2 (Dropout)         (None, 512)               0         \n",
            "                                                                 \n",
            " dense_1 (Dense)             (None, 10)                5130      \n",
            "                                                                 \n",
            "=================================================================\n",
            "Total params: 68458 (267.41 KB)\n",
            "Trainable params: 68458 (267.41 KB)\n",
            "Non-trainable params: 0 (0.00 Byte)\n",
            "_________________________________________________________________\n",
            "Epoch 1/100\n",
            "22/22 - 3s - loss: 9.0986 - accuracy: 0.1445 - val_loss: 2.1147 - val_accuracy: 0.3133 - lr: 0.0010 - 3s/epoch - 129ms/step\n",
            "Epoch 2/100\n",
            "22/22 - 0s - loss: 1.9917 - accuracy: 0.3019 - val_loss: 2.0440 - val_accuracy: 0.3800 - lr: 0.0010 - 169ms/epoch - 8ms/step\n",
            "Epoch 3/100\n",
            "22/22 - 0s - loss: 1.7146 - accuracy: 0.3977 - val_loss: 1.9427 - val_accuracy: 0.4267 - lr: 0.0010 - 179ms/epoch - 8ms/step\n",
            "Epoch 4/100\n",
            "22/22 - 0s - loss: 1.5668 - accuracy: 0.4320 - val_loss: 1.7788 - val_accuracy: 0.4867 - lr: 0.0010 - 173ms/epoch - 8ms/step\n",
            "Epoch 5/100\n",
            "22/22 - 0s - loss: 1.5132 - accuracy: 0.4435 - val_loss: 1.7390 - val_accuracy: 0.4933 - lr: 0.0010 - 179ms/epoch - 8ms/step\n",
            "Epoch 6/100\n",
            "22/22 - 0s - loss: 1.4019 - accuracy: 0.4936 - val_loss: 1.6641 - val_accuracy: 0.5600 - lr: 0.0010 - 174ms/epoch - 8ms/step\n",
            "Epoch 7/100\n",
            "22/22 - 0s - loss: 1.3274 - accuracy: 0.5050 - val_loss: 1.6112 - val_accuracy: 0.5133 - lr: 0.0010 - 179ms/epoch - 8ms/step\n",
            "Epoch 8/100\n",
            "22/22 - 0s - loss: 1.2053 - accuracy: 0.5551 - val_loss: 1.4946 - val_accuracy: 0.5733 - lr: 0.0010 - 171ms/epoch - 8ms/step\n",
            "Epoch 9/100\n",
            "22/22 - 0s - loss: 1.1956 - accuracy: 0.5608 - val_loss: 1.5035 - val_accuracy: 0.6200 - lr: 0.0010 - 169ms/epoch - 8ms/step\n",
            "Epoch 10/100\n",
            "22/22 - 0s - loss: 1.0218 - accuracy: 0.6266 - val_loss: 1.3616 - val_accuracy: 0.5533 - lr: 0.0010 - 168ms/epoch - 8ms/step\n",
            "Epoch 11/100\n",
            "22/22 - 0s - loss: 0.9834 - accuracy: 0.6438 - val_loss: 1.2727 - val_accuracy: 0.5533 - lr: 0.0010 - 164ms/epoch - 7ms/step\n",
            "Epoch 12/100\n",
            "22/22 - 0s - loss: 0.9596 - accuracy: 0.6366 - val_loss: 1.3563 - val_accuracy: 0.5600 - lr: 0.0010 - 161ms/epoch - 7ms/step\n",
            "Epoch 13/100\n",
            "22/22 - 0s - loss: 0.8758 - accuracy: 0.6867 - val_loss: 1.2741 - val_accuracy: 0.6267 - lr: 0.0010 - 156ms/epoch - 7ms/step\n",
            "Epoch 14/100\n",
            "22/22 - 0s - loss: 0.8498 - accuracy: 0.6695 - val_loss: 1.2655 - val_accuracy: 0.5600 - lr: 0.0010 - 162ms/epoch - 7ms/step\n",
            "Epoch 15/100\n",
            "22/22 - 0s - loss: 0.7633 - accuracy: 0.7239 - val_loss: 1.1308 - val_accuracy: 0.6067 - lr: 0.0010 - 163ms/epoch - 7ms/step\n",
            "Epoch 16/100\n",
            "22/22 - 0s - loss: 0.7360 - accuracy: 0.7310 - val_loss: 1.2043 - val_accuracy: 0.5867 - lr: 0.0010 - 164ms/epoch - 7ms/step\n",
            "Epoch 17/100\n",
            "22/22 - 0s - loss: 0.7507 - accuracy: 0.7296 - val_loss: 1.2048 - val_accuracy: 0.5867 - lr: 0.0010 - 160ms/epoch - 7ms/step\n",
            "Epoch 18/100\n",
            "22/22 - 0s - loss: 0.7259 - accuracy: 0.7496 - val_loss: 1.1563 - val_accuracy: 0.5867 - lr: 0.0010 - 160ms/epoch - 7ms/step\n",
            "Epoch 19/100\n",
            "22/22 - 0s - loss: 0.6544 - accuracy: 0.7725 - val_loss: 1.0779 - val_accuracy: 0.6067 - lr: 0.0010 - 162ms/epoch - 7ms/step\n",
            "Epoch 20/100\n",
            "22/22 - 0s - loss: 0.6243 - accuracy: 0.7725 - val_loss: 1.1420 - val_accuracy: 0.6333 - lr: 0.0010 - 168ms/epoch - 8ms/step\n",
            "Epoch 21/100\n",
            "22/22 - 0s - loss: 0.6131 - accuracy: 0.7825 - val_loss: 1.1524 - val_accuracy: 0.6133 - lr: 0.0010 - 165ms/epoch - 7ms/step\n",
            "Epoch 22/100\n",
            "22/22 - 0s - loss: 0.4723 - accuracy: 0.8283 - val_loss: 1.0615 - val_accuracy: 0.6333 - lr: 0.0010 - 170ms/epoch - 8ms/step\n",
            "Epoch 23/100\n",
            "22/22 - 0s - loss: 0.4438 - accuracy: 0.8498 - val_loss: 1.0096 - val_accuracy: 0.6400 - lr: 0.0010 - 171ms/epoch - 8ms/step\n",
            "Epoch 24/100\n",
            "22/22 - 0s - loss: 0.4346 - accuracy: 0.8484 - val_loss: 1.0723 - val_accuracy: 0.6200 - lr: 0.0010 - 166ms/epoch - 8ms/step\n",
            "Epoch 25/100\n",
            "22/22 - 0s - loss: 0.3917 - accuracy: 0.8641 - val_loss: 1.1803 - val_accuracy: 0.6000 - lr: 0.0010 - 162ms/epoch - 7ms/step\n",
            "Epoch 26/100\n",
            "22/22 - 0s - loss: 0.3872 - accuracy: 0.8641 - val_loss: 1.0134 - val_accuracy: 0.6600 - lr: 0.0010 - 173ms/epoch - 8ms/step\n",
            "Epoch 27/100\n",
            "22/22 - 0s - loss: 0.3816 - accuracy: 0.8712 - val_loss: 1.1535 - val_accuracy: 0.6333 - lr: 0.0010 - 163ms/epoch - 7ms/step\n",
            "Epoch 28/100\n",
            "22/22 - 0s - loss: 0.3663 - accuracy: 0.8813 - val_loss: 0.9379 - val_accuracy: 0.6867 - lr: 0.0010 - 166ms/epoch - 8ms/step\n",
            "Epoch 29/100\n",
            "22/22 - 0s - loss: 0.3120 - accuracy: 0.8999 - val_loss: 1.2020 - val_accuracy: 0.6000 - lr: 0.0010 - 170ms/epoch - 8ms/step\n",
            "Epoch 30/100\n",
            "22/22 - 0s - loss: 0.3319 - accuracy: 0.8884 - val_loss: 1.0200 - val_accuracy: 0.6800 - lr: 0.0010 - 166ms/epoch - 8ms/step\n",
            "Epoch 31/100\n",
            "22/22 - 0s - loss: 0.4075 - accuracy: 0.8670 - val_loss: 1.0485 - val_accuracy: 0.6467 - lr: 0.0010 - 157ms/epoch - 7ms/step\n",
            "Epoch 32/100\n",
            "22/22 - 0s - loss: 0.4433 - accuracy: 0.8641 - val_loss: 1.1778 - val_accuracy: 0.6067 - lr: 0.0010 - 165ms/epoch - 7ms/step\n",
            "Epoch 33/100\n",
            "22/22 - 0s - loss: 0.4127 - accuracy: 0.8569 - val_loss: 1.0772 - val_accuracy: 0.6267 - lr: 0.0010 - 158ms/epoch - 7ms/step\n",
            "Epoch 34/100\n",
            "22/22 - 0s - loss: 0.3363 - accuracy: 0.8755 - val_loss: 0.9912 - val_accuracy: 0.6467 - lr: 0.0010 - 160ms/epoch - 7ms/step\n",
            "Epoch 35/100\n",
            "22/22 - 0s - loss: 0.2284 - accuracy: 0.9256 - val_loss: 1.1026 - val_accuracy: 0.6200 - lr: 0.0010 - 162ms/epoch - 7ms/step\n",
            "Epoch 36/100\n",
            "22/22 - 0s - loss: 0.2248 - accuracy: 0.9213 - val_loss: 0.9813 - val_accuracy: 0.6400 - lr: 0.0010 - 165ms/epoch - 7ms/step\n",
            "Epoch 37/100\n",
            "22/22 - 0s - loss: 0.2199 - accuracy: 0.9242 - val_loss: 1.0000 - val_accuracy: 0.6733 - lr: 0.0010 - 160ms/epoch - 7ms/step\n",
            "Epoch 38/100\n",
            "Restoring model weights from the end of the best epoch: 28.\n",
            "22/22 - 0s - loss: 0.2233 - accuracy: 0.9170 - val_loss: 1.1611 - val_accuracy: 0.6400 - lr: 0.0010 - 175ms/epoch - 8ms/step\n",
            "Epoch 38: early stopping\n"
          ]
        },
        {
          "output_type": "execute_result",
          "data": {
            "text/plain": [
              "<keras.src.callbacks.History at 0x7d9a1fcdaf80>"
            ]
          },
          "metadata": {},
          "execution_count": 19
        }
      ]
    },
    {
      "cell_type": "code",
      "source": [
        "test_loss, test_acc = cnn_model.evaluate(X_test, y_test, verbose=2)\n",
        "print('\\nTest accuracy:', test_acc)"
      ],
      "metadata": {
        "colab": {
          "base_uri": "https://localhost:8080/"
        },
        "id": "8fwrO7nuN9og",
        "outputId": "8af34214-c30d-4506-f033-6c16b6629975"
      },
      "execution_count": 20,
      "outputs": [
        {
          "output_type": "stream",
          "name": "stdout",
          "text": [
            "5/5 - 0s - loss: 1.2870 - accuracy: 0.6800 - 41ms/epoch - 8ms/step\n",
            "\n",
            "Test accuracy: 0.6800000071525574\n"
          ]
        }
      ]
    },
    {
      "cell_type": "code",
      "source": [
        "# evaluate the model on the test set\n",
        "test_loss, test_acc = cnn_model.evaluate(X_test, y_test, verbose=2)\n",
        "\n",
        "# generate predictions\n",
        "predictions = cnn_model.predict(X_test)\n",
        "predicted_labels = np.argmax(predictions, axis=1)\n",
        "\n",
        "# create the confusion matrix\n",
        "cm = confusion_matrix(y_test, predicted_labels)\n",
        "\n",
        "\n",
        "# Test set evaluation\n",
        "from sklearn.metrics import confusion_matrix, accuracy_score, f1_score\n",
        "\n",
        "# calculate the confusion matrix, accuracy, f1\n",
        "conf_matrix = confusion_matrix(y_test, predicted_labels)\n",
        "accuracy = accuracy_score(y_test, predicted_labels)\n",
        "f1 = f1_score(y_test, predicted_labels, average='weighted')\n",
        "\n",
        "# create classification report\n",
        "GENRES = [\"blues\", \"classical\", \"country\", \"disco\", \"hiphop\", \"jazz\", \"metal\", \"pop\", \"reggae\", \"rock\"]\n",
        "report = classification_report(y_test, predicted_labels, target_names=GENRES)\n",
        "\n",
        "# plot confusion matrix\n",
        "plt.figure(figsize=(10,8))\n",
        "sns.heatmap(cm, annot=True, fmt='d')\n",
        "plt.title('Confusion Matrix')\n",
        "plt.ylabel('Actual labels')\n",
        "plt.xlabel('Predicted labels')\n",
        "plt.show()\n",
        "\n",
        "print(report)\n",
        "\n",
        "print(conf_matrix, accuracy, f1)"
      ],
      "metadata": {
        "colab": {
          "base_uri": "https://localhost:8080/",
          "height": 1000
        },
        "id": "DEWnQY2aQsjs",
        "outputId": "57e41dce-4861-44ef-8687-4820049c9bdc"
      },
      "execution_count": 21,
      "outputs": [
        {
          "output_type": "stream",
          "name": "stdout",
          "text": [
            "5/5 - 0s - loss: 1.2870 - accuracy: 0.6800 - 40ms/epoch - 8ms/step\n",
            "5/5 [==============================] - 0s 4ms/step\n"
          ]
        },
        {
          "output_type": "display_data",
          "data": {
            "text/plain": [
              "<Figure size 1000x800 with 2 Axes>"
            ],
            "image/png": "[encoded data removed]"
          },
          "metadata": {}
        },
        {
          "output_type": "stream",
          "name": "stdout",
          "text": [
            "              precision    recall  f1-score   support\n",
            "\n",
            "       blues       0.78      0.47      0.58        15\n",
            "   classical       0.81      0.87      0.84        15\n",
            "     country       0.71      0.67      0.69        15\n",
            "       disco       0.50      0.47      0.48        15\n",
            "      hiphop       0.63      0.80      0.71        15\n",
            "        jazz       0.75      0.80      0.77        15\n",
            "       metal       0.75      1.00      0.86        15\n",
            "         pop       0.81      0.87      0.84        15\n",
            "      reggae       0.56      0.67      0.61        15\n",
            "        rock       0.38      0.20      0.26        15\n",
            "\n",
            "    accuracy                           0.68       150\n",
            "   macro avg       0.67      0.68      0.66       150\n",
            "weighted avg       0.67      0.68      0.66       150\n",
            "\n",
            "[[ 7  0  2  2  0  1  0  0  1  2]\n",
            " [ 0 13  0  1  0  1  0  0  0  0]\n",
            " [ 1  0 10  0  0  1  0  1  1  1]\n",
            " [ 0  1  0  7  3  0  1  1  1  1]\n",
            " [ 0  0  0  1 12  0  1  0  1  0]\n",
            " [ 1  1  1  0  0 12  0  0  0  0]\n",
            " [ 0  0  0  0  0  0 15  0  0  0]\n",
            " [ 0  0  0  0  1  0  0 13  1  0]\n",
            " [ 0  0  0  2  2  0  0  0 10  1]\n",
            " [ 0  1  1  1  1  1  3  1  3  3]] 0.68 0.663731541102462\n"
          ]
        }
      ]
    },
    {
      "cell_type": "code",
      "source": [],
      "metadata": {
        "id": "ER0KGqIrhcMu"
      },
      "execution_count": null,
      "outputs": []
    }
  ]
}