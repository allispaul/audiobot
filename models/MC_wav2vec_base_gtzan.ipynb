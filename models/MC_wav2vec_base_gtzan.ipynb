{
  "nbformat": 4,
  "nbformat_minor": 0,
  "metadata": {
    "colab": {
      "provenance": [],
      "toc_visible": true
    },
    "kernelspec": {
      "name": "python3",
      "display_name": "Python 3"
    },
    "language_info": {
      "name": "python"
    }
  },
  "cells": [
    {
      "cell_type": "markdown",
      "source": [
        "## Fine-tune `wav2vec2-base` with gtzan"
      ],
      "metadata": {
        "id": "9qZEpbva84me"
      }
    },
    {
      "cell_type": "markdown",
      "source": [
        "Using https://www.kaggle.com/datasets/andradaolteanu/gtzan-dataset-music-genre-classification dataset\n"
      ],
      "metadata": {
        "id": "Uyzont2x9Pje"
      }
    },
    {
      "cell_type": "code",
      "source": [
        "import pyarrow.parquet as pq\n",
        "import numpy as np\n",
        "import pandas as pd\n",
        "import sklearn\n",
        "import matplotlib.pyplot as plt\n",
        "import librosa\n",
        "import librosa.display\n",
        "\n",
        "#from IPython.display import Audio\n",
        "\n",
        "!pip install datasets\n",
        "from datasets import load_dataset, Audio, DatasetDict\n",
        "\n",
        "#!pip install git+https://github.com/huggingface/transformers\n",
        "!pip install -U accelerate\n",
        "!pip install -U transformers\n",
        "!pip install evaluate"
      ],
      "metadata": {
        "id": "iuDQnPgb9BpS"
      },
      "execution_count": null,
      "outputs": []
    },
    {
      "cell_type": "code",
      "source": [
        "import logging\n",
        "\n",
        "gtzan = load_dataset(\"marsyas/gtzan\", split='train')\n",
        "\n",
        "gtzan"
      ],
      "metadata": {
        "colab": {
          "base_uri": "https://localhost:8080/"
        },
        "id": "QiGqztiS9eek",
        "outputId": "4a0aeca6-92d6-4ca9-8fcf-6635164481be"
      },
      "execution_count": null,
      "outputs": [
        {
          "output_type": "stream",
          "name": "stderr",
          "text": [
            "/usr/local/lib/python3.10/dist-packages/huggingface_hub/utils/_token.py:88: UserWarning: \n",
            "The secret `HF_TOKEN` does not exist in your Colab secrets.\n",
            "To authenticate with the Hugging Face Hub, create a token in your settings tab (https://huggingface.co/settings/tokens), set it as secret in your Google Colab and restart your session.\n",
            "You will be able to reuse this secret in all of your notebooks.\n",
            "Please note that authentication is recommended but still optional to access public models or datasets.\n",
            "  warnings.warn(\n",
            "/usr/local/lib/python3.10/dist-packages/datasets/load.py:1461: FutureWarning: The repository for marsyas/gtzan contains custom code which must be executed to correctly load the dataset. You can inspect the repository content at https://hf.co/datasets/marsyas/gtzan\n",
            "You can avoid this message in future by passing the argument `trust_remote_code=True`.\n",
            "Passing `trust_remote_code=True` will be mandatory to load this dataset from the next major release of `datasets`.\n",
            "  warnings.warn(\n"
          ]
        },
        {
          "output_type": "execute_result",
          "data": {
            "text/plain": [
              "Dataset({\n",
              "    features: ['file', 'audio', 'genre'],\n",
              "    num_rows: 999\n",
              "})"
            ]
          },
          "metadata": {},
          "execution_count": 3
        }
      ]
    },
    {
      "cell_type": "code",
      "source": [
        "# Split the dataset into training and test sets (e.g., 60% training, 40% test)\n",
        "train_test = gtzan.train_test_split(seed=42, shuffle=True, test_size=0.4, stratify_by_column = 'genre')\n",
        "train_set = train_test['train']\n",
        "test_set = train_test['test']\n",
        "\n",
        "# Further split the test set into test and evaluation sets (50% test, 50% evaluation)\n",
        "test_eval = test_set.train_test_split(seed=42, shuffle=True, test_size=0.5, stratify_by_column = 'genre')\n",
        "test_set = test_eval['train']\n",
        "eval_set = test_eval['test']\n",
        "\n",
        "# Combine the splits into a DatasetDict for convenience\n",
        "splits = DatasetDict({\n",
        "    'train': train_set,\n",
        "    'test': test_set,\n",
        "    'eval': eval_set\n",
        "})"
      ],
      "metadata": {
        "id": "N_JqH5UD9gon"
      },
      "execution_count": null,
      "outputs": []
    },
    {
      "cell_type": "code",
      "source": [
        "print(\"Train set: \\n\",  pd.Series(splits['train']['genre']).value_counts().sort_index(), '\\n')\n",
        "\n",
        "print(\"Test set: \\n\",  pd.Series(splits['eval']['genre']).value_counts().sort_index())\n",
        "\n",
        "print(\"Test set: \\n\",  pd.Series(splits['test']['genre']).value_counts().sort_index())"
      ],
      "metadata": {
        "colab": {
          "base_uri": "https://localhost:8080/"
        },
        "id": "h3YIbNEz_I6n",
        "outputId": "4c2558ef-6168-43d3-d633-d7254de3e9de"
      },
      "execution_count": null,
      "outputs": [
        {
          "output_type": "stream",
          "name": "stdout",
          "text": [
            "Train set: \n",
            " 0    60\n",
            "1    60\n",
            "2    60\n",
            "3    60\n",
            "4    60\n",
            "5    59\n",
            "6    60\n",
            "7    60\n",
            "8    60\n",
            "9    60\n",
            "Name: count, dtype: int64 \n",
            "\n",
            "Test set: \n",
            " 0    20\n",
            "1    20\n",
            "2    20\n",
            "3    20\n",
            "4    20\n",
            "5    20\n",
            "6    20\n",
            "7    20\n",
            "8    20\n",
            "9    20\n",
            "Name: count, dtype: int64\n",
            "Test set: \n",
            " 0    20\n",
            "1    20\n",
            "2    20\n",
            "3    20\n",
            "4    20\n",
            "5    20\n",
            "6    20\n",
            "7    20\n",
            "8    20\n",
            "9    20\n",
            "Name: count, dtype: int64\n"
          ]
        }
      ]
    },
    {
      "cell_type": "code",
      "source": [
        "# GENRES = [\"blues\", \"classical\", \"country\", \"disco\", \"hiphop\", \"jazz\", \"metal\", \"pop\", \"reggae\", \"rock\"]\n",
        "\n",
        "# create a dictionary to map label\n",
        "labels = splits['train'].features['genre'].names\n",
        "label2id, id2label = dict(), dict()\n",
        "for i, label in enumerate(labels):\n",
        "  label2id[label] = str(i)\n",
        "  id2label[str(i)] = label\n",
        "\n",
        "id2label[str(7)]"
      ],
      "metadata": {
        "colab": {
          "base_uri": "https://localhost:8080/",
          "height": 35
        },
        "id": "9LhCxuKjJtxD",
        "outputId": "dd6aa0d3-40e8-4419-d659-71cf1e59811f"
      },
      "execution_count": null,
      "outputs": [
        {
          "output_type": "execute_result",
          "data": {
            "text/plain": [
              "'pop'"
            ],
            "application/vnd.google.colaboratory.intrinsic+json": {
              "type": "string"
            }
          },
          "metadata": {},
          "execution_count": 6
        }
      ]
    },
    {
      "cell_type": "markdown",
      "source": [
        "### Preprocess"
      ],
      "metadata": {
        "id": "59xT42O8GzGo"
      }
    },
    {
      "cell_type": "code",
      "source": [
        "from transformers import AutoFeatureExtractor\n",
        "\n",
        "model_id = \"facebook/wav2vec2-base\"\n",
        "feature_extractor = AutoFeatureExtractor.from_pretrained(\n",
        "    model_id,\n",
        "    # do_normalize=True,  # common preprocess -> ensures amplitude of audio signal is scaled within a certain range (consistent in terms of amplitude)\n",
        "    # return_attention_mask=True # focus on relevant parts of the input and ignore padding.\n",
        ")"
      ],
      "metadata": {
        "colab": {
          "base_uri": "https://localhost:8080/"
        },
        "id": "6b8OD-MOFCf9",
        "outputId": "bcb4fcaa-0b5f-4ab9-8318-b49603fc4624"
      },
      "execution_count": null,
      "outputs": [
        {
          "output_type": "stream",
          "name": "stderr",
          "text": [
            "/usr/local/lib/python3.10/dist-packages/transformers/configuration_utils.py:363: UserWarning: Passing `gradient_checkpointing` to a config initialization is deprecated and will be removed in v5 Transformers. Using `model.gradient_checkpointing_enable()` instead, or if you are using the `Trainer` API, pass `gradient_checkpointing=True` in your `TrainingArguments`.\n",
            "  warnings.warn(\n"
          ]
        }
      ]
    },
    {
      "cell_type": "code",
      "source": [
        "sampling_rate = feature_extractor.sampling_rate\n",
        "sampling_rate # This is the sampling rate that the model expects, so we have to make sure we re-sample the audio to this rate."
      ],
      "metadata": {
        "colab": {
          "base_uri": "https://localhost:8080/"
        },
        "id": "tYWdGuKc9lfC",
        "outputId": "717dc403-5a9e-402a-ff57-d21025bb16ec"
      },
      "execution_count": null,
      "outputs": [
        {
          "output_type": "execute_result",
          "data": {
            "text/plain": [
              "16000"
            ]
          },
          "metadata": {},
          "execution_count": 8
        }
      ]
    },
    {
      "cell_type": "code",
      "source": [
        "gtzan = splits.cast_column(\"audio\", Audio(sampling_rate=sampling_rate)) # reseample the dataset to 16kHz to use Wav2vec."
      ],
      "metadata": {
        "id": "80iKbO_19mw1"
      },
      "execution_count": null,
      "outputs": []
    },
    {
      "cell_type": "code",
      "source": [
        "max_duration = 30.0 #I'm pretty sure all the audio is close to exactly this long (skipped EDA, lol)"
      ],
      "metadata": {
        "id": "VDkoeYMq9nrQ"
      },
      "execution_count": null,
      "outputs": []
    },
    {
      "cell_type": "code",
      "source": [
        "def preprocess_function(examples):\n",
        "    audio_arrays = [x[\"array\"] for x in examples[\"audio\"]]\n",
        "    inputs = feature_extractor(\n",
        "        audio_arrays,\n",
        "        sampling_rate=feature_extractor.sampling_rate,\n",
        "        max_length=int(feature_extractor.sampling_rate * max_duration),\n",
        "        truncation=True,\n",
        "        # return_attention_mask=True,\n",
        "    )\n",
        "    return inputs"
      ],
      "metadata": {
        "id": "ivLOSww29o1Z"
      },
      "execution_count": null,
      "outputs": []
    },
    {
      "cell_type": "code",
      "source": [
        "# apply preprocessing function over entire dataset using `map` function.\n",
        "gtzan_encoded = gtzan.map(\n",
        "    preprocess_function,\n",
        "    remove_columns=[\"audio\", \"file\"],\n",
        "    batched=True, # process multiple elements of dataset at once\n",
        "    batch_size=100,\n",
        "    num_proc=1,\n",
        ")\n",
        "gtzan_encoded"
      ],
      "metadata": {
        "colab": {
          "base_uri": "https://localhost:8080/"
        },
        "id": "4J_MtTER9qFr",
        "outputId": "35630202-296e-4146-f885-ca7bfab877af"
      },
      "execution_count": null,
      "outputs": [
        {
          "output_type": "execute_result",
          "data": {
            "text/plain": [
              "DatasetDict({\n",
              "    train: Dataset({\n",
              "        features: ['genre', 'input_values'],\n",
              "        num_rows: 599\n",
              "    })\n",
              "    test: Dataset({\n",
              "        features: ['genre', 'input_values'],\n",
              "        num_rows: 200\n",
              "    })\n",
              "    eval: Dataset({\n",
              "        features: ['genre', 'input_values'],\n",
              "        num_rows: 200\n",
              "    })\n",
              "})"
            ]
          },
          "metadata": {},
          "execution_count": 12
        }
      ]
    },
    {
      "cell_type": "code",
      "source": [
        "gtzan_encoded = gtzan_encoded.rename_column(\"genre\", \"label\") # rename `genre` to `label`"
      ],
      "metadata": {
        "id": "d8FHbjee9rUR"
      },
      "execution_count": null,
      "outputs": []
    },
    {
      "cell_type": "markdown",
      "source": [
        "### Evaluate"
      ],
      "metadata": {
        "id": "sxHxojP4JSc2"
      }
    },
    {
      "cell_type": "code",
      "source": [
        "import evaluate\n",
        "\n",
        "metric = evaluate.load(\"accuracy\")\n",
        "\n",
        "def compute_metrics(eval_pred):\n",
        "    \"\"\"Computes accuracy on a batch of predictions\"\"\"\n",
        "    predictions = np.argmax(eval_pred.predictions, axis=1)\n",
        "    return metric.compute(predictions=predictions, references=eval_pred.label_ids)\n"
      ],
      "metadata": {
        "id": "3kCZGdymKMix"
      },
      "execution_count": null,
      "outputs": []
    },
    {
      "cell_type": "markdown",
      "source": [
        "### Train"
      ],
      "metadata": {
        "id": "-rRdd5ktKPiT"
      }
    },
    {
      "cell_type": "code",
      "source": [
        "from transformers import AutoModelForAudioClassification, TrainingArguments, Trainer\n",
        "\n",
        "num_labels = len(id2label)\n",
        "num_labels"
      ],
      "metadata": {
        "colab": {
          "base_uri": "https://localhost:8080/"
        },
        "id": "vDkRBz1f9vdL",
        "outputId": "06f69249-c1b6-4b28-ff1d-f81ec57c27a8"
      },
      "execution_count": null,
      "outputs": [
        {
          "output_type": "execute_result",
          "data": {
            "text/plain": [
              "10"
            ]
          },
          "metadata": {},
          "execution_count": 15
        }
      ]
    },
    {
      "cell_type": "code",
      "source": [
        "model = AutoModelForAudioClassification.from_pretrained(\n",
        "    model_id,\n",
        "    num_labels=num_labels,\n",
        "    label2id=label2id,\n",
        "    id2label=id2label,\n",
        ")"
      ],
      "metadata": {
        "colab": {
          "base_uri": "https://localhost:8080/",
          "height": 104,
          "referenced_widgets": [
            "ec0202fde3434846aa3861dfe75e788b",
            "4bc0823c3d9049ac9d14c12a9846e72d",
            "3ff477704d6342388b96f0737782f509",
            "15fbfb75dcca461c840dc50e44864b6d",
            "c1857203e8f54798886c5888b205076a",
            "af16eb5b728240b38044600c86863242",
            "737fdd500de443cab1fe443324a0050a",
            "57665f0e661c4c5ab8afb6f09d8a206a",
            "717e1c2ad8404830a73a1b6a48051573",
            "4c75f0ed9d664411bc2396296dcc51fa",
            "a90e47f4ff974f728c94122bfc6b4c9c"
          ]
        },
        "id": "svZxqqYEKX6s",
        "outputId": "6008dfef-9d73-483d-95c1-995ad168c589"
      },
      "execution_count": null,
      "outputs": [
        {
          "output_type": "display_data",
          "data": {
            "text/plain": [
              "pytorch_model.bin:   0%|          | 0.00/380M [00:00<?, ?B/s]"
            ],
            "application/vnd.jupyter.widget-view+json": {
              "version_major": 2,
              "version_minor": 0,
              "model_id": "ec0202fde3434846aa3861dfe75e788b"
            }
          },
          "metadata": {}
        },
        {
          "output_type": "stream",
          "name": "stderr",
          "text": [
            "Some weights of Wav2Vec2ForSequenceClassification were not initialized from the model checkpoint at facebook/wav2vec2-base and are newly initialized: ['classifier.bias', 'classifier.weight', 'projector.bias', 'projector.weight', 'wav2vec2.encoder.pos_conv_embed.conv.parametrizations.weight.original0', 'wav2vec2.encoder.pos_conv_embed.conv.parametrizations.weight.original1']\n",
            "You should probably TRAIN this model on a down-stream task to be able to use it for predictions and inference.\n"
          ]
        }
      ]
    },
    {
      "cell_type": "code",
      "source": [
        "model_name = model_id.split(\"/\")[-1]\n",
        "batch_size = 8\n",
        "gradient_accumulation_steps = 1\n",
        "num_train_epochs = 10\n",
        "\n",
        "training_args = TrainingArguments(\n",
        "    f\"{model_name}-finetuned-gtzan\",\n",
        "    evaluation_strategy=\"epoch\",\n",
        "    save_strategy=\"epoch\",\n",
        "    learning_rate = 5e-5,\n",
        "    per_device_train_batch_size=batch_size,\n",
        "    gradient_accumulation_steps=gradient_accumulation_steps,\n",
        "    num_train_epochs=num_train_epochs,\n",
        "    warmup_ratio=0.1,\n",
        "    logging_steps=5,\n",
        "    metric_for_best_model=\"accuracy\",\n",
        "    fp16=True,\n",
        "    load_best_model_at_end = True,\n",
        ")"
      ],
      "metadata": {
        "id": "vKMIlzwy9w8K"
      },
      "execution_count": null,
      "outputs": []
    },
    {
      "cell_type": "code",
      "source": [
        "trainer = Trainer(\n",
        "    model,\n",
        "    training_args,\n",
        "    train_dataset=gtzan_encoded[\"train\"],\n",
        "    eval_dataset=gtzan_encoded[\"eval\"],\n",
        "    tokenizer=feature_extractor,\n",
        "    compute_metrics=compute_metrics,\n",
        ")\n",
        "\n",
        "trainer.train()"
      ],
      "metadata": {
        "colab": {
          "base_uri": "https://localhost:8080/",
          "height": 423
        },
        "id": "HzawqmA39zXb",
        "outputId": "c6afc700-efea-41f9-b181-12d8a4ee46f2"
      },
      "execution_count": null,
      "outputs": [
        {
          "output_type": "display_data",
          "data": {
            "text/plain": [
              "<IPython.core.display.HTML object>"
            ],
            "text/html": [
              "\n",
              "    <div>\n",
              "      \n",
              "      <progress value='750' max='750' style='width:300px; height:20px; vertical-align: middle;'></progress>\n",
              "      [750/750 39:09, Epoch 10/10]\n",
              "    </div>\n",
              "    <table border=\"1\" class=\"dataframe\">\n",
              "  <thead>\n",
              " <tr style=\"text-align: left;\">\n",
              "      <th>Epoch</th>\n",
              "      <th>Training Loss</th>\n",
              "      <th>Validation Loss</th>\n",
              "      <th>Accuracy</th>\n",
              "    </tr>\n",
              "  </thead>\n",
              "  <tbody>\n",
              "    <tr>\n",
              "      <td>1</td>\n",
              "      <td>1.935100</td>\n",
              "      <td>2.080762</td>\n",
              "      <td>0.240000</td>\n",
              "    </tr>\n",
              "    <tr>\n",
              "      <td>2</td>\n",
              "      <td>1.865900</td>\n",
              "      <td>1.698552</td>\n",
              "      <td>0.505000</td>\n",
              "    </tr>\n",
              "    <tr>\n",
              "      <td>3</td>\n",
              "      <td>1.276400</td>\n",
              "      <td>1.204097</td>\n",
              "      <td>0.700000</td>\n",
              "    </tr>\n",
              "    <tr>\n",
              "      <td>4</td>\n",
              "      <td>0.989200</td>\n",
              "      <td>1.050729</td>\n",
              "      <td>0.700000</td>\n",
              "    </tr>\n",
              "    <tr>\n",
              "      <td>5</td>\n",
              "      <td>0.701100</td>\n",
              "      <td>1.131818</td>\n",
              "      <td>0.680000</td>\n",
              "    </tr>\n",
              "    <tr>\n",
              "      <td>6</td>\n",
              "      <td>0.833200</td>\n",
              "      <td>0.845435</td>\n",
              "      <td>0.760000</td>\n",
              "    </tr>\n",
              "    <tr>\n",
              "      <td>7</td>\n",
              "      <td>0.548700</td>\n",
              "      <td>0.751850</td>\n",
              "      <td>0.810000</td>\n",
              "    </tr>\n",
              "    <tr>\n",
              "      <td>8</td>\n",
              "      <td>0.413300</td>\n",
              "      <td>0.836900</td>\n",
              "      <td>0.760000</td>\n",
              "    </tr>\n",
              "    <tr>\n",
              "      <td>9</td>\n",
              "      <td>0.205700</td>\n",
              "      <td>0.675268</td>\n",
              "      <td>0.800000</td>\n",
              "    </tr>\n",
              "    <tr>\n",
              "      <td>10</td>\n",
              "      <td>0.239500</td>\n",
              "      <td>0.718954</td>\n",
              "      <td>0.790000</td>\n",
              "    </tr>\n",
              "  </tbody>\n",
              "</table><p>"
            ]
          },
          "metadata": {}
        },
        {
          "output_type": "execute_result",
          "data": {
            "text/plain": [
              "TrainOutput(global_step=750, training_loss=1.019743766784668, metrics={'train_runtime': 2354.2082, 'train_samples_per_second': 2.544, 'train_steps_per_second': 0.319, 'total_flos': 1.6314657538752e+18, 'train_loss': 1.019743766784668, 'epoch': 10.0})"
            ]
          },
          "metadata": {},
          "execution_count": 29
        }
      ]
    },
    {
      "cell_type": "code",
      "source": [
        "results = trainer.evaluate()\n",
        "results"
      ],
      "metadata": {
        "id": "auYMvTL1QQwl",
        "colab": {
          "base_uri": "https://localhost:8080/",
          "height": 141
        },
        "outputId": "f63f757b-a0f3-4c4b-90e3-7e06bdede787"
      },
      "execution_count": null,
      "outputs": [
        {
          "output_type": "display_data",
          "data": {
            "text/plain": [
              "<IPython.core.display.HTML object>"
            ],
            "text/html": [
              "\n",
              "    <div>\n",
              "      \n",
              "      <progress value='25' max='25' style='width:300px; height:20px; vertical-align: middle;'></progress>\n",
              "      [25/25 00:41]\n",
              "    </div>\n",
              "    "
            ]
          },
          "metadata": {}
        },
        {
          "output_type": "execute_result",
          "data": {
            "text/plain": [
              "{'eval_loss': 0.7518499493598938,\n",
              " 'eval_accuracy': 0.81,\n",
              " 'eval_runtime': 44.5769,\n",
              " 'eval_samples_per_second': 4.487,\n",
              " 'eval_steps_per_second': 0.561,\n",
              " 'epoch': 10.0}"
            ]
          },
          "metadata": {},
          "execution_count": 30
        }
      ]
    },
    {
      "cell_type": "code",
      "source": [
        "# Connect to Google Drive\n",
        "from google.colab import drive\n",
        "drive.mount('/content/drive')\n",
        "\n",
        "import os\n",
        "os.chdir('/content/drive/MyDrive/erdos24')"
      ],
      "metadata": {
        "colab": {
          "base_uri": "https://localhost:8080/"
        },
        "id": "Wseo8IZvMHTu",
        "outputId": "a812f6e3-c829-4f53-a513-656774b0e532"
      },
      "execution_count": null,
      "outputs": [
        {
          "output_type": "stream",
          "name": "stdout",
          "text": [
            "Drive already mounted at /content/drive; to attempt to forcibly remount, call drive.mount(\"/content/drive\", force_remount=True).\n"
          ]
        }
      ]
    },
    {
      "cell_type": "code",
      "source": [
        "# Saving model & feature extractor\n",
        "directory = 'fine_tuned_wav2vec-base'\n",
        "trainer.save_model(directory)\n",
        "feature_extractor.save_pretrained(directory)"
      ],
      "metadata": {
        "id": "2RqUJDsNH3Yx"
      },
      "execution_count": null,
      "outputs": []
    },
    {
      "cell_type": "code",
      "source": [
        "import torch\n",
        "from transformers import AutoModelForAudioClassification, AutoFeatureExtractor\n",
        "\n",
        "model = AutoModelForAudioClassification.from_pretrained(\"/content/drive/MyDrive/erdos24/fine_tuned_wav2vec-base\")\n",
        "model.to('cuda')  # move model to GPU\n",
        "model.eval()  # set model to evaluation mode\n",
        "\n",
        "# get inputs\n",
        "inputs = gtzan_encoded['test']['input_values']"
      ],
      "metadata": {
        "id": "L4m_ETApP-VP"
      },
      "execution_count": null,
      "outputs": []
    },
    {
      "cell_type": "code",
      "source": [
        "# Initialize a list to store the logits\n",
        "all_logits = []\n",
        "\n",
        "for input in inputs:\n",
        "    # convert input to tensor and add a batch dimension\n",
        "    input_tensor = torch.tensor(input).unsqueeze(0).to('cuda')\n",
        "\n",
        "    # perform inference and store logits\n",
        "    with torch.no_grad():\n",
        "        logits = model(input_tensor).logits\n",
        "        all_logits.append(logits.cpu())  # move logits to CPU\n",
        "\n",
        "    # free up memory\n",
        "    del input_tensor\n",
        "    torch.cuda.empty_cache()\n",
        "\n",
        "# concatenate logits\n",
        "all_logits = torch.cat(all_logits)"
      ],
      "metadata": {
        "id": "jwvqrCHDQAHG"
      },
      "execution_count": null,
      "outputs": []
    },
    {
      "cell_type": "code",
      "source": [
        "# Get the predicted class and labels\n",
        "predicted_class_ids = torch.argmax(all_logits, dim=1)\n",
        "predicted_labels = [model.config.id2label[class_id.item()] for class_id in predicted_class_ids]\n",
        "predicted_labels"
      ],
      "metadata": {
        "id": "m7f4_DXnQrKu"
      },
      "execution_count": null,
      "outputs": []
    },
    {
      "cell_type": "code",
      "source": [
        "# Test set evaluation\n",
        "from sklearn.metrics import confusion_matrix, accuracy_score, f1_score\n",
        "\n",
        "# actual labels\n",
        "labels = gtzan_encoded['test']['label']\n",
        "\n",
        "# convert label\n",
        "actual_labels = [model.config.id2label[label_id] for label_id in labels]\n",
        "\n",
        "# calculate the confusion matrix, accuracy, f1\n",
        "conf_matrix = confusion_matrix(actual_labels, predicted_labels)\n",
        "accuracy = accuracy_score(actual_labels, predicted_labels)\n",
        "f1 = f1_score(actual_labels, predicted_labels, average='weighted')\n",
        "\n",
        "conf_matrix, accuracy, f1"
      ],
      "metadata": {
        "id": "IEnVthnfR-kt",
        "colab": {
          "base_uri": "https://localhost:8080/"
        },
        "outputId": "119570cb-fe50-4d96-dcc3-807e83156b84"
      },
      "execution_count": null,
      "outputs": [
        {
          "output_type": "execute_result",
          "data": {
            "text/plain": [
              "(array([[17,  0,  2,  0,  0,  0,  0,  0,  1,  0],\n",
              "        [ 0, 20,  0,  0,  0,  0,  0,  0,  0,  0],\n",
              "        [ 1,  0, 13,  0,  0,  2,  0,  0,  0,  4],\n",
              "        [ 0,  0,  0, 14,  1,  0,  0,  2,  0,  3],\n",
              "        [ 0,  0,  0,  0, 20,  0,  0,  0,  0,  0],\n",
              "        [ 0,  0,  0,  0,  0, 19,  0,  1,  0,  0],\n",
              "        [ 0,  0,  1,  1,  0,  0, 17,  0,  0,  1],\n",
              "        [ 0,  0,  2,  1,  0,  0,  0, 16,  0,  1],\n",
              "        [ 1,  0,  0,  1,  3,  0,  0,  0, 14,  1],\n",
              "        [ 2,  0,  4,  3,  0,  0,  1,  2,  1,  7]]),\n",
              " 0.785,\n",
              " 0.7815616892253605)"
            ]
          },
          "metadata": {},
          "execution_count": 25
        }
      ]
    }
  ]
}